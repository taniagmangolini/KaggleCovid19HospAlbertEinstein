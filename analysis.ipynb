{
 "cells": [
  {
   "cell_type": "code",
   "execution_count": 141,
   "metadata": {},
   "outputs": [],
   "source": [
    "import pandas as pd\n",
    "import numpy as np\n",
    "import matplotlib.pyplot as plt\n",
    "from sklearn.preprocessing import StandardScaler\n",
    "\n",
    "%matplotlib inline\n",
    "pd.options.display.max_rows = 50\n",
    "pd.options.display.max_columns = 50"
   ]
  },
  {
   "cell_type": "code",
   "execution_count": 142,
   "metadata": {},
   "outputs": [
    {
     "data": {
      "text/plain": [
       "(5644, 15)"
      ]
     },
     "execution_count": 142,
     "metadata": {},
     "output_type": "execute_result"
    }
   ],
   "source": [
    "# read the data file\n",
    "\n",
    "df = pd.ExcelFile('dataset.xlsx').parse('All'); \n",
    "dfcpy = df.copy()\n",
    "dfcpy = dfcpy[['SARS-Cov-2 exam result',\n",
    "               'Hemoglobin',\n",
    "               'Leukocytes', \n",
    "               'Lymphocytes', \n",
    "               'Neutrophils', \n",
    "               'Basophils', \n",
    "               'Monocytes',\n",
    "               'Urea', \n",
    "               'Potassium', \n",
    "               'Sodium', \n",
    "               'Magnesium',\n",
    "               'Hb saturation (venous blood gas analysis)',\n",
    "               'pH (venous blood gas analysis)',\n",
    "               'pO2 (venous blood gas analysis)',\n",
    "               'pCO2 (venous blood gas analysis)']]\n",
    "dfcpy.shape"
   ]
  },
  {
   "cell_type": "code",
   "execution_count": 143,
   "metadata": {},
   "outputs": [
    {
     "data": {
      "text/html": [
       "<div>\n",
       "<style scoped>\n",
       "    .dataframe tbody tr th:only-of-type {\n",
       "        vertical-align: middle;\n",
       "    }\n",
       "\n",
       "    .dataframe tbody tr th {\n",
       "        vertical-align: top;\n",
       "    }\n",
       "\n",
       "    .dataframe thead th {\n",
       "        text-align: right;\n",
       "    }\n",
       "</style>\n",
       "<table border=\"1\" class=\"dataframe\">\n",
       "  <thead>\n",
       "    <tr style=\"text-align: right;\">\n",
       "      <th></th>\n",
       "      <th>Hemoglobin</th>\n",
       "      <th>Leukocytes</th>\n",
       "      <th>Lymphocytes</th>\n",
       "      <th>Neutrophils</th>\n",
       "      <th>Basophils</th>\n",
       "      <th>Monocytes</th>\n",
       "      <th>Urea</th>\n",
       "      <th>Potassium</th>\n",
       "      <th>Sodium</th>\n",
       "      <th>Magnesium</th>\n",
       "      <th>Hb saturation (venous blood gas analysis)</th>\n",
       "      <th>pH (venous blood gas analysis)</th>\n",
       "      <th>pO2 (venous blood gas analysis)</th>\n",
       "      <th>pCO2 (venous blood gas analysis)</th>\n",
       "    </tr>\n",
       "  </thead>\n",
       "  <tbody>\n",
       "    <tr>\n",
       "      <th>count</th>\n",
       "      <td>6.030000e+02</td>\n",
       "      <td>6.020000e+02</td>\n",
       "      <td>6.020000e+02</td>\n",
       "      <td>5.130000e+02</td>\n",
       "      <td>6.020000e+02</td>\n",
       "      <td>6.010000e+02</td>\n",
       "      <td>3.970000e+02</td>\n",
       "      <td>3.710000e+02</td>\n",
       "      <td>3.700000e+02</td>\n",
       "      <td>4.000000e+01</td>\n",
       "      <td>1.360000e+02</td>\n",
       "      <td>1.360000e+02</td>\n",
       "      <td>1.360000e+02</td>\n",
       "      <td>1.360000e+02</td>\n",
       "    </tr>\n",
       "    <tr>\n",
       "      <th>mean</th>\n",
       "      <td>-1.601319e-08</td>\n",
       "      <td>6.215833e-09</td>\n",
       "      <td>-7.866736e-09</td>\n",
       "      <td>5.908361e-09</td>\n",
       "      <td>-6.633740e-09</td>\n",
       "      <td>-3.220114e-09</td>\n",
       "      <td>-6.675260e-09</td>\n",
       "      <td>2.038366e-08</td>\n",
       "      <td>1.123628e-08</td>\n",
       "      <td>-5.215406e-09</td>\n",
       "      <td>1.509290e-08</td>\n",
       "      <td>3.593467e-09</td>\n",
       "      <td>-7.909394e-09</td>\n",
       "      <td>-1.935234e-08</td>\n",
       "    </tr>\n",
       "    <tr>\n",
       "      <th>std</th>\n",
       "      <td>1.000830e+00</td>\n",
       "      <td>1.000832e+00</td>\n",
       "      <td>1.000832e+00</td>\n",
       "      <td>1.000976e+00</td>\n",
       "      <td>1.000832e+00</td>\n",
       "      <td>1.000833e+00</td>\n",
       "      <td>1.001262e+00</td>\n",
       "      <td>1.001350e+00</td>\n",
       "      <td>1.001354e+00</td>\n",
       "      <td>1.012739e+00</td>\n",
       "      <td>1.003697e+00</td>\n",
       "      <td>1.003697e+00</td>\n",
       "      <td>1.003697e+00</td>\n",
       "      <td>1.003697e+00</td>\n",
       "    </tr>\n",
       "    <tr>\n",
       "      <th>min</th>\n",
       "      <td>-4.345603e+00</td>\n",
       "      <td>-2.020303e+00</td>\n",
       "      <td>-1.865070e+00</td>\n",
       "      <td>-3.339775e+00</td>\n",
       "      <td>-1.140144e+00</td>\n",
       "      <td>-2.163721e+00</td>\n",
       "      <td>-1.630410e+00</td>\n",
       "      <td>-2.283079e+00</td>\n",
       "      <td>-5.246946e+00</td>\n",
       "      <td>-2.191136e+00</td>\n",
       "      <td>-2.295574e+00</td>\n",
       "      <td>-4.772944e+00</td>\n",
       "      <td>-1.633925e+00</td>\n",
       "      <td>-2.705014e+00</td>\n",
       "    </tr>\n",
       "    <tr>\n",
       "      <th>25%</th>\n",
       "      <td>-5.862439e-01</td>\n",
       "      <td>-6.372547e-01</td>\n",
       "      <td>-7.307069e-01</td>\n",
       "      <td>-6.518655e-01</td>\n",
       "      <td>-5.292256e-01</td>\n",
       "      <td>-6.141920e-01</td>\n",
       "      <td>-5.883426e-01</td>\n",
       "      <td>-8.001102e-01</td>\n",
       "      <td>-5.750077e-01</td>\n",
       "      <td>-5.579909e-01</td>\n",
       "      <td>-8.025806e-01</td>\n",
       "      <td>-5.255692e-01</td>\n",
       "      <td>-6.942536e-01</td>\n",
       "      <td>-5.466186e-01</td>\n",
       "    </tr>\n",
       "    <tr>\n",
       "      <th>50%</th>\n",
       "      <td>4.031596e-02</td>\n",
       "      <td>-2.128790e-01</td>\n",
       "      <td>-1.426696e-02</td>\n",
       "      <td>-5.364196e-02</td>\n",
       "      <td>-2.237665e-01</td>\n",
       "      <td>-1.151911e-01</td>\n",
       "      <td>-1.417422e-01</td>\n",
       "      <td>-5.862590e-02</td>\n",
       "      <td>1.437519e-01</td>\n",
       "      <td>-1.360926e-02</td>\n",
       "      <td>9.036924e-02</td>\n",
       "      <td>-9.088095e-02</td>\n",
       "      <td>-2.126297e-01</td>\n",
       "      <td>1.373409e-02</td>\n",
       "    </tr>\n",
       "    <tr>\n",
       "      <th>75%</th>\n",
       "      <td>7.295320e-01</td>\n",
       "      <td>4.542955e-01</td>\n",
       "      <td>5.976919e-01</td>\n",
       "      <td>6.838943e-01</td>\n",
       "      <td>3.871516e-01</td>\n",
       "      <td>4.888627e-01</td>\n",
       "      <td>4.537250e-01</td>\n",
       "      <td>6.828590e-01</td>\n",
       "      <td>5.031317e-01</td>\n",
       "      <td>5.307717e-01</td>\n",
       "      <td>8.172991e-01</td>\n",
       "      <td>4.904491e-01</td>\n",
       "      <td>4.828621e-01</td>\n",
       "      <td>6.190532e-01</td>\n",
       "    </tr>\n",
       "    <tr>\n",
       "      <th>max</th>\n",
       "      <td>2.671868e+00</td>\n",
       "      <td>4.522042e+00</td>\n",
       "      <td>3.764100e+00</td>\n",
       "      <td>2.535929e+00</td>\n",
       "      <td>1.107822e+01</td>\n",
       "      <td>4.533397e+00</td>\n",
       "      <td>1.124657e+01</td>\n",
       "      <td>3.401635e+00</td>\n",
       "      <td>4.096930e+00</td>\n",
       "      <td>2.163916e+00</td>\n",
       "      <td>1.707877e+00</td>\n",
       "      <td>2.789583e+00</td>\n",
       "      <td>3.775081e+00</td>\n",
       "      <td>5.679521e+00</td>\n",
       "    </tr>\n",
       "  </tbody>\n",
       "</table>\n",
       "</div>"
      ],
      "text/plain": [
       "         Hemoglobin    Leukocytes   Lymphocytes   Neutrophils     Basophils  \\\n",
       "count  6.030000e+02  6.020000e+02  6.020000e+02  5.130000e+02  6.020000e+02   \n",
       "mean  -1.601319e-08  6.215833e-09 -7.866736e-09  5.908361e-09 -6.633740e-09   \n",
       "std    1.000830e+00  1.000832e+00  1.000832e+00  1.000976e+00  1.000832e+00   \n",
       "min   -4.345603e+00 -2.020303e+00 -1.865070e+00 -3.339775e+00 -1.140144e+00   \n",
       "25%   -5.862439e-01 -6.372547e-01 -7.307069e-01 -6.518655e-01 -5.292256e-01   \n",
       "50%    4.031596e-02 -2.128790e-01 -1.426696e-02 -5.364196e-02 -2.237665e-01   \n",
       "75%    7.295320e-01  4.542955e-01  5.976919e-01  6.838943e-01  3.871516e-01   \n",
       "max    2.671868e+00  4.522042e+00  3.764100e+00  2.535929e+00  1.107822e+01   \n",
       "\n",
       "          Monocytes          Urea     Potassium        Sodium     Magnesium  \\\n",
       "count  6.010000e+02  3.970000e+02  3.710000e+02  3.700000e+02  4.000000e+01   \n",
       "mean  -3.220114e-09 -6.675260e-09  2.038366e-08  1.123628e-08 -5.215406e-09   \n",
       "std    1.000833e+00  1.001262e+00  1.001350e+00  1.001354e+00  1.012739e+00   \n",
       "min   -2.163721e+00 -1.630410e+00 -2.283079e+00 -5.246946e+00 -2.191136e+00   \n",
       "25%   -6.141920e-01 -5.883426e-01 -8.001102e-01 -5.750077e-01 -5.579909e-01   \n",
       "50%   -1.151911e-01 -1.417422e-01 -5.862590e-02  1.437519e-01 -1.360926e-02   \n",
       "75%    4.888627e-01  4.537250e-01  6.828590e-01  5.031317e-01  5.307717e-01   \n",
       "max    4.533397e+00  1.124657e+01  3.401635e+00  4.096930e+00  2.163916e+00   \n",
       "\n",
       "       Hb saturation (venous blood gas analysis)  \\\n",
       "count                               1.360000e+02   \n",
       "mean                                1.509290e-08   \n",
       "std                                 1.003697e+00   \n",
       "min                                -2.295574e+00   \n",
       "25%                                -8.025806e-01   \n",
       "50%                                 9.036924e-02   \n",
       "75%                                 8.172991e-01   \n",
       "max                                 1.707877e+00   \n",
       "\n",
       "       pH (venous blood gas analysis)  pO2 (venous blood gas analysis)  \\\n",
       "count                    1.360000e+02                     1.360000e+02   \n",
       "mean                     3.593467e-09                    -7.909394e-09   \n",
       "std                      1.003697e+00                     1.003697e+00   \n",
       "min                     -4.772944e+00                    -1.633925e+00   \n",
       "25%                     -5.255692e-01                    -6.942536e-01   \n",
       "50%                     -9.088095e-02                    -2.126297e-01   \n",
       "75%                      4.904491e-01                     4.828621e-01   \n",
       "max                      2.789583e+00                     3.775081e+00   \n",
       "\n",
       "       pCO2 (venous blood gas analysis)  \n",
       "count                      1.360000e+02  \n",
       "mean                      -1.935234e-08  \n",
       "std                        1.003697e+00  \n",
       "min                       -2.705014e+00  \n",
       "25%                       -5.466186e-01  \n",
       "50%                        1.373409e-02  \n",
       "75%                        6.190532e-01  \n",
       "max                        5.679521e+00  "
      ]
     },
     "execution_count": 143,
     "metadata": {},
     "output_type": "execute_result"
    }
   ],
   "source": [
    "dfcpy.describe()"
   ]
  },
  {
   "cell_type": "code",
   "execution_count": 144,
   "metadata": {},
   "outputs": [
    {
     "data": {
      "text/html": [
       "<div>\n",
       "<style scoped>\n",
       "    .dataframe tbody tr th:only-of-type {\n",
       "        vertical-align: middle;\n",
       "    }\n",
       "\n",
       "    .dataframe tbody tr th {\n",
       "        vertical-align: top;\n",
       "    }\n",
       "\n",
       "    .dataframe thead th {\n",
       "        text-align: right;\n",
       "    }\n",
       "</style>\n",
       "<table border=\"1\" class=\"dataframe\">\n",
       "  <thead>\n",
       "    <tr style=\"text-align: right;\">\n",
       "      <th></th>\n",
       "      <th>Hemoglobin</th>\n",
       "      <th>Leukocytes</th>\n",
       "      <th>Lymphocytes</th>\n",
       "      <th>Neutrophils</th>\n",
       "      <th>Basophils</th>\n",
       "      <th>Monocytes</th>\n",
       "      <th>Urea</th>\n",
       "      <th>Potassium</th>\n",
       "      <th>Sodium</th>\n",
       "      <th>Magnesium</th>\n",
       "      <th>Hb saturation (venous blood gas analysis)</th>\n",
       "      <th>pH (venous blood gas analysis)</th>\n",
       "      <th>pO2 (venous blood gas analysis)</th>\n",
       "      <th>pCO2 (venous blood gas analysis)</th>\n",
       "    </tr>\n",
       "  </thead>\n",
       "  <tbody>\n",
       "    <tr>\n",
       "      <th>4863</th>\n",
       "      <td>-1.463427</td>\n",
       "      <td>-0.773612</td>\n",
       "      <td>-0.568655</td>\n",
       "      <td>0.528192</td>\n",
       "      <td>-0.529226</td>\n",
       "      <td>-0.220244</td>\n",
       "      <td>-1.407110</td>\n",
       "      <td>-0.800110</td>\n",
       "      <td>0.503132</td>\n",
       "      <td>1.619535</td>\n",
       "      <td>1.674674</td>\n",
       "      <td>1.050830</td>\n",
       "      <td>2.899401</td>\n",
       "      <td>-0.615798</td>\n",
       "    </tr>\n",
       "    <tr>\n",
       "      <th>5017</th>\n",
       "      <td>-0.147652</td>\n",
       "      <td>0.314460</td>\n",
       "      <td>-1.694489</td>\n",
       "      <td>1.814783</td>\n",
       "      <td>-1.140144</td>\n",
       "      <td>-1.270772</td>\n",
       "      <td>-0.439476</td>\n",
       "      <td>-1.294433</td>\n",
       "      <td>1.581271</td>\n",
       "      <td>-1.102373</td>\n",
       "      <td>-1.522395</td>\n",
       "      <td>-0.666974</td>\n",
       "      <td>-1.135461</td>\n",
       "      <td>0.518743</td>\n",
       "    </tr>\n",
       "    <tr>\n",
       "      <th>5226</th>\n",
       "      <td>-0.210308</td>\n",
       "      <td>-1.271731</td>\n",
       "      <td>-0.031325</td>\n",
       "      <td>0.143034</td>\n",
       "      <td>-0.223767</td>\n",
       "      <td>0.357547</td>\n",
       "      <td>-0.439476</td>\n",
       "      <td>0.682859</td>\n",
       "      <td>-0.934388</td>\n",
       "      <td>-1.102373</td>\n",
       "      <td>0.436639</td>\n",
       "      <td>0.275724</td>\n",
       "      <td>0.130906</td>\n",
       "      <td>0.532579</td>\n",
       "    </tr>\n",
       "  </tbody>\n",
       "</table>\n",
       "</div>"
      ],
      "text/plain": [
       "      Hemoglobin  Leukocytes  Lymphocytes  Neutrophils  Basophils  Monocytes  \\\n",
       "4863   -1.463427   -0.773612    -0.568655     0.528192  -0.529226  -0.220244   \n",
       "5017   -0.147652    0.314460    -1.694489     1.814783  -1.140144  -1.270772   \n",
       "5226   -0.210308   -1.271731    -0.031325     0.143034  -0.223767   0.357547   \n",
       "\n",
       "          Urea  Potassium    Sodium  Magnesium  \\\n",
       "4863 -1.407110  -0.800110  0.503132   1.619535   \n",
       "5017 -0.439476  -1.294433  1.581271  -1.102373   \n",
       "5226 -0.439476   0.682859 -0.934388  -1.102373   \n",
       "\n",
       "      Hb saturation (venous blood gas analysis)  \\\n",
       "4863                                   1.674674   \n",
       "5017                                  -1.522395   \n",
       "5226                                   0.436639   \n",
       "\n",
       "      pH (venous blood gas analysis)  pO2 (venous blood gas analysis)  \\\n",
       "4863                        1.050830                         2.899401   \n",
       "5017                       -0.666974                        -1.135461   \n",
       "5226                        0.275724                         0.130906   \n",
       "\n",
       "      pCO2 (venous blood gas analysis)  \n",
       "4863                         -0.615798  \n",
       "5017                          0.518743  \n",
       "5226                          0.532579  "
      ]
     },
     "execution_count": 144,
     "metadata": {},
     "output_type": "execute_result"
    }
   ],
   "source": [
    "df_positive = dfcpy[dfcpy['SARS-Cov-2 exam result'] == 'positive']\n",
    "df_positive = df_positive[['Hemoglobin','Leukocytes', \n",
    "               'Lymphocytes', 'Neutrophils', 'Basophils', 'Monocytes',\n",
    "               'Urea', 'Potassium', 'Sodium', 'Magnesium','Hb saturation (venous blood gas analysis)',\n",
    "               'pH (venous blood gas analysis)', 'pO2 (venous blood gas analysis)',\n",
    "               'pCO2 (venous blood gas analysis)']]\n",
    "df_positive = df_positive.dropna()\n",
    "df_positive.head()"
   ]
  },
  {
   "cell_type": "code",
   "execution_count": 145,
   "metadata": {},
   "outputs": [
    {
     "data": {
      "text/html": [
       "<div>\n",
       "<style scoped>\n",
       "    .dataframe tbody tr th:only-of-type {\n",
       "        vertical-align: middle;\n",
       "    }\n",
       "\n",
       "    .dataframe tbody tr th {\n",
       "        vertical-align: top;\n",
       "    }\n",
       "\n",
       "    .dataframe thead th {\n",
       "        text-align: right;\n",
       "    }\n",
       "</style>\n",
       "<table border=\"1\" class=\"dataframe\">\n",
       "  <thead>\n",
       "    <tr style=\"text-align: right;\">\n",
       "      <th></th>\n",
       "      <th>Hemoglobin</th>\n",
       "      <th>Leukocytes</th>\n",
       "      <th>Lymphocytes</th>\n",
       "      <th>Neutrophils</th>\n",
       "      <th>Basophils</th>\n",
       "      <th>Monocytes</th>\n",
       "      <th>Urea</th>\n",
       "      <th>Potassium</th>\n",
       "      <th>Sodium</th>\n",
       "      <th>Magnesium</th>\n",
       "      <th>Hb saturation (venous blood gas analysis)</th>\n",
       "      <th>pH (venous blood gas analysis)</th>\n",
       "      <th>pO2 (venous blood gas analysis)</th>\n",
       "      <th>pCO2 (venous blood gas analysis)</th>\n",
       "    </tr>\n",
       "  </thead>\n",
       "  <tbody>\n",
       "    <tr>\n",
       "      <th>8</th>\n",
       "      <td>-0.774212</td>\n",
       "      <td>0.364550</td>\n",
       "      <td>-0.005738</td>\n",
       "      <td>-0.127395</td>\n",
       "      <td>-0.223767</td>\n",
       "      <td>0.068652</td>\n",
       "      <td>-0.067309</td>\n",
       "      <td>0.930020</td>\n",
       "      <td>0.503132</td>\n",
       "      <td>1.075153</td>\n",
       "      <td>-0.554737</td>\n",
       "      <td>-0.855513</td>\n",
       "      <td>-0.562902</td>\n",
       "      <td>0.615594</td>\n",
       "    </tr>\n",
       "    <tr>\n",
       "      <th>928</th>\n",
       "      <td>-0.147652</td>\n",
       "      <td>0.701268</td>\n",
       "      <td>-0.406603</td>\n",
       "      <td>0.388879</td>\n",
       "      <td>0.081693</td>\n",
       "      <td>-0.115191</td>\n",
       "      <td>-0.067309</td>\n",
       "      <td>1.424343</td>\n",
       "      <td>-0.934388</td>\n",
       "      <td>0.530772</td>\n",
       "      <td>0.223185</td>\n",
       "      <td>1.323165</td>\n",
       "      <td>-0.354086</td>\n",
       "      <td>-0.352916</td>\n",
       "    </tr>\n",
       "    <tr>\n",
       "      <th>3180</th>\n",
       "      <td>-0.398276</td>\n",
       "      <td>1.722553</td>\n",
       "      <td>-0.662474</td>\n",
       "      <td>0.995298</td>\n",
       "      <td>-0.529226</td>\n",
       "      <td>-0.351560</td>\n",
       "      <td>1.421359</td>\n",
       "      <td>0.930020</td>\n",
       "      <td>-0.575008</td>\n",
       "      <td>-0.557991</td>\n",
       "      <td>1.162383</td>\n",
       "      <td>1.846886</td>\n",
       "      <td>0.831450</td>\n",
       "      <td>-1.293755</td>\n",
       "    </tr>\n",
       "    <tr>\n",
       "      <th>4355</th>\n",
       "      <td>-0.962180</td>\n",
       "      <td>-1.088067</td>\n",
       "      <td>2.467685</td>\n",
       "      <td>-2.217081</td>\n",
       "      <td>0.387152</td>\n",
       "      <td>0.121178</td>\n",
       "      <td>-0.290609</td>\n",
       "      <td>-1.294433</td>\n",
       "      <td>0.143752</td>\n",
       "      <td>-0.013609</td>\n",
       "      <td>-0.293848</td>\n",
       "      <td>-0.080407</td>\n",
       "      <td>-0.522486</td>\n",
       "      <td>-0.048527</td>\n",
       "    </tr>\n",
       "    <tr>\n",
       "      <th>4926</th>\n",
       "      <td>-3.593731</td>\n",
       "      <td>0.125230</td>\n",
       "      <td>-0.943933</td>\n",
       "      <td>0.438049</td>\n",
       "      <td>-0.529226</td>\n",
       "      <td>-0.482876</td>\n",
       "      <td>4.473129</td>\n",
       "      <td>-1.294433</td>\n",
       "      <td>3.737550</td>\n",
       "      <td>0.530772</td>\n",
       "      <td>0.797140</td>\n",
       "      <td>0.401417</td>\n",
       "      <td>0.413818</td>\n",
       "      <td>0.698609</td>\n",
       "    </tr>\n",
       "  </tbody>\n",
       "</table>\n",
       "</div>"
      ],
      "text/plain": [
       "      Hemoglobin  Leukocytes  Lymphocytes  Neutrophils  Basophils  Monocytes  \\\n",
       "8      -0.774212    0.364550    -0.005738    -0.127395  -0.223767   0.068652   \n",
       "928    -0.147652    0.701268    -0.406603     0.388879   0.081693  -0.115191   \n",
       "3180   -0.398276    1.722553    -0.662474     0.995298  -0.529226  -0.351560   \n",
       "4355   -0.962180   -1.088067     2.467685    -2.217081   0.387152   0.121178   \n",
       "4926   -3.593731    0.125230    -0.943933     0.438049  -0.529226  -0.482876   \n",
       "\n",
       "          Urea  Potassium    Sodium  Magnesium  \\\n",
       "8    -0.067309   0.930020  0.503132   1.075153   \n",
       "928  -0.067309   1.424343 -0.934388   0.530772   \n",
       "3180  1.421359   0.930020 -0.575008  -0.557991   \n",
       "4355 -0.290609  -1.294433  0.143752  -0.013609   \n",
       "4926  4.473129  -1.294433  3.737550   0.530772   \n",
       "\n",
       "      Hb saturation (venous blood gas analysis)  \\\n",
       "8                                     -0.554737   \n",
       "928                                    0.223185   \n",
       "3180                                   1.162383   \n",
       "4355                                  -0.293848   \n",
       "4926                                   0.797140   \n",
       "\n",
       "      pH (venous blood gas analysis)  pO2 (venous blood gas analysis)  \\\n",
       "8                          -0.855513                        -0.562902   \n",
       "928                         1.323165                        -0.354086   \n",
       "3180                        1.846886                         0.831450   \n",
       "4355                       -0.080407                        -0.522486   \n",
       "4926                        0.401417                         0.413818   \n",
       "\n",
       "      pCO2 (venous blood gas analysis)  \n",
       "8                             0.615594  \n",
       "928                          -0.352916  \n",
       "3180                         -1.293755  \n",
       "4355                         -0.048527  \n",
       "4926                          0.698609  "
      ]
     },
     "execution_count": 145,
     "metadata": {},
     "output_type": "execute_result"
    }
   ],
   "source": [
    "df_negative = dfcpy[dfcpy['SARS-Cov-2 exam result'] == 'negative']\n",
    "df_negative = df_negative[['Hemoglobin','Leukocytes', \n",
    "               'Lymphocytes', 'Neutrophils', 'Basophils', 'Monocytes',\n",
    "               'Urea', 'Potassium', 'Sodium', 'Magnesium', 'Hb saturation (venous blood gas analysis)',\n",
    "               'pH (venous blood gas analysis)','pO2 (venous blood gas analysis)',\n",
    "               'pCO2 (venous blood gas analysis)']]\n",
    "df_negative = df_negative.dropna()\n",
    "df_negative.head()"
   ]
  },
  {
   "cell_type": "code",
   "execution_count": 146,
   "metadata": {},
   "outputs": [
    {
     "data": {
      "text/html": [
       "<div>\n",
       "<style scoped>\n",
       "    .dataframe tbody tr th:only-of-type {\n",
       "        vertical-align: middle;\n",
       "    }\n",
       "\n",
       "    .dataframe tbody tr th {\n",
       "        vertical-align: top;\n",
       "    }\n",
       "\n",
       "    .dataframe thead th {\n",
       "        text-align: right;\n",
       "    }\n",
       "</style>\n",
       "<table border=\"1\" class=\"dataframe\">\n",
       "  <thead>\n",
       "    <tr style=\"text-align: right;\">\n",
       "      <th></th>\n",
       "      <th>Hemoglobin</th>\n",
       "      <th>Leukocytes</th>\n",
       "      <th>Lymphocytes</th>\n",
       "      <th>Neutrophils</th>\n",
       "      <th>Basophils</th>\n",
       "      <th>Monocytes</th>\n",
       "      <th>Urea</th>\n",
       "      <th>Potassium</th>\n",
       "      <th>Sodium</th>\n",
       "      <th>Magnesium</th>\n",
       "      <th>Hb saturation (venous blood gas analysis)</th>\n",
       "      <th>pH (venous blood gas analysis)</th>\n",
       "      <th>pO2 (venous blood gas analysis)</th>\n",
       "      <th>pCO2 (venous blood gas analysis)</th>\n",
       "    </tr>\n",
       "  </thead>\n",
       "  <tbody>\n",
       "    <tr>\n",
       "      <th>8</th>\n",
       "      <td>0.323694</td>\n",
       "      <td>-0.152329</td>\n",
       "      <td>0.373166</td>\n",
       "      <td>-0.452965</td>\n",
       "      <td>0.112509</td>\n",
       "      <td>0.253971</td>\n",
       "      <td>-0.481301</td>\n",
       "      <td>0.790222</td>\n",
       "      <td>0.254660</td>\n",
       "      <td>1.452600</td>\n",
       "      <td>-1.122856</td>\n",
       "      <td>-1.316724</td>\n",
       "      <td>-0.942081</td>\n",
       "      <td>0.924982</td>\n",
       "    </tr>\n",
       "    <tr>\n",
       "      <th>928</th>\n",
       "      <td>0.971082</td>\n",
       "      <td>0.285481</td>\n",
       "      <td>-0.006462</td>\n",
       "      <td>0.058447</td>\n",
       "      <td>0.675053</td>\n",
       "      <td>0.023088</td>\n",
       "      <td>-0.481301</td>\n",
       "      <td>1.157767</td>\n",
       "      <td>-0.877163</td>\n",
       "      <td>0.760886</td>\n",
       "      <td>-0.113824</td>\n",
       "      <td>1.020124</td>\n",
       "      <td>-0.647977</td>\n",
       "      <td>-0.344601</td>\n",
       "    </tr>\n",
       "    <tr>\n",
       "      <th>3180</th>\n",
       "      <td>0.712127</td>\n",
       "      <td>1.613384</td>\n",
       "      <td>-0.248778</td>\n",
       "      <td>0.659153</td>\n",
       "      <td>-0.450035</td>\n",
       "      <td>-0.273760</td>\n",
       "      <td>0.521410</td>\n",
       "      <td>0.790222</td>\n",
       "      <td>-0.594207</td>\n",
       "      <td>-0.622543</td>\n",
       "      <td>1.104398</td>\n",
       "      <td>1.581867</td>\n",
       "      <td>1.021773</td>\n",
       "      <td>-1.577911</td>\n",
       "    </tr>\n",
       "    <tr>\n",
       "      <th>4355</th>\n",
       "      <td>0.129477</td>\n",
       "      <td>-2.041063</td>\n",
       "      <td>2.715553</td>\n",
       "      <td>-2.522967</td>\n",
       "      <td>1.237597</td>\n",
       "      <td>0.319937</td>\n",
       "      <td>-0.631708</td>\n",
       "      <td>-0.863731</td>\n",
       "      <td>-0.028296</td>\n",
       "      <td>0.069172</td>\n",
       "      <td>-0.784461</td>\n",
       "      <td>-0.485345</td>\n",
       "      <td>-0.885157</td>\n",
       "      <td>0.054411</td>\n",
       "    </tr>\n",
       "    <tr>\n",
       "      <th>4926</th>\n",
       "      <td>-2.589553</td>\n",
       "      <td>-0.463500</td>\n",
       "      <td>-0.515325</td>\n",
       "      <td>0.107153</td>\n",
       "      <td>-0.450035</td>\n",
       "      <td>-0.438676</td>\n",
       "      <td>2.576967</td>\n",
       "      <td>-0.863731</td>\n",
       "      <td>2.801264</td>\n",
       "      <td>0.760886</td>\n",
       "      <td>0.630645</td>\n",
       "      <td>0.031458</td>\n",
       "      <td>0.433566</td>\n",
       "      <td>1.033803</td>\n",
       "    </tr>\n",
       "  </tbody>\n",
       "</table>\n",
       "</div>"
      ],
      "text/plain": [
       "      Hemoglobin  Leukocytes  Lymphocytes  Neutrophils  Basophils  Monocytes  \\\n",
       "8       0.323694   -0.152329     0.373166    -0.452965   0.112509   0.253971   \n",
       "928     0.971082    0.285481    -0.006462     0.058447   0.675053   0.023088   \n",
       "3180    0.712127    1.613384    -0.248778     0.659153  -0.450035  -0.273760   \n",
       "4355    0.129477   -2.041063     2.715553    -2.522967   1.237597   0.319937   \n",
       "4926   -2.589553   -0.463500    -0.515325     0.107153  -0.450035  -0.438676   \n",
       "\n",
       "          Urea  Potassium    Sodium  Magnesium  \\\n",
       "8    -0.481301   0.790222  0.254660   1.452600   \n",
       "928  -0.481301   1.157767 -0.877163   0.760886   \n",
       "3180  0.521410   0.790222 -0.594207  -0.622543   \n",
       "4355 -0.631708  -0.863731 -0.028296   0.069172   \n",
       "4926  2.576967  -0.863731  2.801264   0.760886   \n",
       "\n",
       "      Hb saturation (venous blood gas analysis)  \\\n",
       "8                                     -1.122856   \n",
       "928                                   -0.113824   \n",
       "3180                                   1.104398   \n",
       "4355                                  -0.784461   \n",
       "4926                                   0.630645   \n",
       "\n",
       "      pH (venous blood gas analysis)  pO2 (venous blood gas analysis)  \\\n",
       "8                          -1.316724                        -0.942081   \n",
       "928                         1.020124                        -0.647977   \n",
       "3180                        1.581867                         1.021773   \n",
       "4355                       -0.485345                        -0.885157   \n",
       "4926                        0.031458                         0.433566   \n",
       "\n",
       "      pCO2 (venous blood gas analysis)  \n",
       "8                             0.924982  \n",
       "928                          -0.344601  \n",
       "3180                         -1.577911  \n",
       "4355                          0.054411  \n",
       "4926                          1.033803  "
      ]
     },
     "execution_count": 146,
     "metadata": {},
     "output_type": "execute_result"
    }
   ],
   "source": [
    "#standardization\n",
    "scaler = StandardScaler()\n",
    "std_data = scaler.fit_transform(df_negative.values)\n",
    "std_df_negative = pd.DataFrame(std_data, index=df_negative.index, columns=df_negative.columns)\n",
    "std_df_negative.head()"
   ]
  },
  {
   "cell_type": "code",
   "execution_count": 147,
   "metadata": {},
   "outputs": [
    {
     "data": {
      "text/html": [
       "<div>\n",
       "<style scoped>\n",
       "    .dataframe tbody tr th:only-of-type {\n",
       "        vertical-align: middle;\n",
       "    }\n",
       "\n",
       "    .dataframe tbody tr th {\n",
       "        vertical-align: top;\n",
       "    }\n",
       "\n",
       "    .dataframe thead th {\n",
       "        text-align: right;\n",
       "    }\n",
       "</style>\n",
       "<table border=\"1\" class=\"dataframe\">\n",
       "  <thead>\n",
       "    <tr style=\"text-align: right;\">\n",
       "      <th></th>\n",
       "      <th>Hemoglobin</th>\n",
       "      <th>Leukocytes</th>\n",
       "      <th>Lymphocytes</th>\n",
       "      <th>Neutrophils</th>\n",
       "      <th>Basophils</th>\n",
       "      <th>Monocytes</th>\n",
       "      <th>Urea</th>\n",
       "      <th>Potassium</th>\n",
       "      <th>Sodium</th>\n",
       "      <th>Magnesium</th>\n",
       "      <th>Hb saturation (venous blood gas analysis)</th>\n",
       "      <th>pH (venous blood gas analysis)</th>\n",
       "      <th>pO2 (venous blood gas analysis)</th>\n",
       "      <th>pCO2 (venous blood gas analysis)</th>\n",
       "    </tr>\n",
       "  </thead>\n",
       "  <tbody>\n",
       "    <tr>\n",
       "      <th>4863</th>\n",
       "      <td>-1.412953</td>\n",
       "      <td>-0.296911</td>\n",
       "      <td>0.283068</td>\n",
       "      <td>-0.420368</td>\n",
       "      <td>0.267261</td>\n",
       "      <td>0.233786</td>\n",
       "      <td>-1.414214</td>\n",
       "      <td>-0.392232</td>\n",
       "      <td>0.116248</td>\n",
       "      <td>1.414214</td>\n",
       "      <td>1.123196</td>\n",
       "      <td>1.183041</td>\n",
       "      <td>1.345990</td>\n",
       "      <td>-1.414136</td>\n",
       "    </tr>\n",
       "    <tr>\n",
       "      <th>5017</th>\n",
       "      <td>0.758170</td>\n",
       "      <td>1.345904</td>\n",
       "      <td>-1.341494</td>\n",
       "      <td>1.379572</td>\n",
       "      <td>-1.336306</td>\n",
       "      <td>-1.324787</td>\n",
       "      <td>0.707107</td>\n",
       "      <td>-0.980581</td>\n",
       "      <td>1.162476</td>\n",
       "      <td>-0.707107</td>\n",
       "      <td>-1.305791</td>\n",
       "      <td>-1.262573</td>\n",
       "      <td>-1.048806</td>\n",
       "      <td>0.694212</td>\n",
       "    </tr>\n",
       "    <tr>\n",
       "      <th>5226</th>\n",
       "      <td>0.654784</td>\n",
       "      <td>-1.048993</td>\n",
       "      <td>1.058426</td>\n",
       "      <td>-0.959204</td>\n",
       "      <td>1.069045</td>\n",
       "      <td>1.091001</td>\n",
       "      <td>0.707107</td>\n",
       "      <td>1.372813</td>\n",
       "      <td>-1.278724</td>\n",
       "      <td>-0.707107</td>\n",
       "      <td>0.182595</td>\n",
       "      <td>0.079532</td>\n",
       "      <td>-0.297184</td>\n",
       "      <td>0.719924</td>\n",
       "    </tr>\n",
       "  </tbody>\n",
       "</table>\n",
       "</div>"
      ],
      "text/plain": [
       "      Hemoglobin  Leukocytes  Lymphocytes  Neutrophils  Basophils  Monocytes  \\\n",
       "4863   -1.412953   -0.296911     0.283068    -0.420368   0.267261   0.233786   \n",
       "5017    0.758170    1.345904    -1.341494     1.379572  -1.336306  -1.324787   \n",
       "5226    0.654784   -1.048993     1.058426    -0.959204   1.069045   1.091001   \n",
       "\n",
       "          Urea  Potassium    Sodium  Magnesium  \\\n",
       "4863 -1.414214  -0.392232  0.116248   1.414214   \n",
       "5017  0.707107  -0.980581  1.162476  -0.707107   \n",
       "5226  0.707107   1.372813 -1.278724  -0.707107   \n",
       "\n",
       "      Hb saturation (venous blood gas analysis)  \\\n",
       "4863                                   1.123196   \n",
       "5017                                  -1.305791   \n",
       "5226                                   0.182595   \n",
       "\n",
       "      pH (venous blood gas analysis)  pO2 (venous blood gas analysis)  \\\n",
       "4863                        1.183041                         1.345990   \n",
       "5017                       -1.262573                        -1.048806   \n",
       "5226                        0.079532                        -0.297184   \n",
       "\n",
       "      pCO2 (venous blood gas analysis)  \n",
       "4863                         -1.414136  \n",
       "5017                          0.694212  \n",
       "5226                          0.719924  "
      ]
     },
     "execution_count": 147,
     "metadata": {},
     "output_type": "execute_result"
    }
   ],
   "source": [
    "#standardization\n",
    "scaler = StandardScaler()\n",
    "std_data_pos= scaler.fit_transform(df_positive.values)\n",
    "std_df_positive = pd.DataFrame(std_data_pos, index=df_positive.index, columns=df_positive.columns)\n",
    "std_df_positive.head()"
   ]
  },
  {
   "cell_type": "code",
   "execution_count": 148,
   "metadata": {},
   "outputs": [
    {
     "data": {
      "image/png": "[encoded data removed]",
      "text/plain": [
       "<Figure size 432x288 with 1 Axes>"
      ]
     },
     "metadata": {},
     "output_type": "display_data"
    }
   ],
   "source": [
    "#Hemoglobin\n",
    "positives = std_df_positive['Hemoglobin']\n",
    "negatives = std_df_negative['Hemoglobin']\n",
    "\n",
    "plt.hist([positives, negatives], label=['positives', 'negatives'])\n",
    "plt.legend(loc='upper right')\n",
    "plt.show()"
   ]
  },
  {
   "cell_type": "code",
   "execution_count": null,
   "metadata": {},
   "outputs": [],
   "source": []
  },
  {
   "cell_type": "code",
   "execution_count": 149,
   "metadata": {},
   "outputs": [
    {
     "data": {
      "image/png": "[encoded data removed]",
      "text/plain": [
       "<Figure size 432x288 with 1 Axes>"
      ]
     },
     "metadata": {},
     "output_type": "display_data"
    }
   ],
   "source": [
    "#Leukocytes\n",
    "positives = std_df_positive['Leukocytes']\n",
    "negatives = std_df_negative['Leukocytes']\n",
    "\n",
    "plt.hist([positives, negatives], label=['positives', 'negatives'])\n",
    "plt.legend(loc='upper right')\n",
    "plt.show()"
   ]
  },
  {
   "cell_type": "code",
   "execution_count": 150,
   "metadata": {},
   "outputs": [
    {
     "data": {
      "image/png": "[encoded data removed]",
      "text/plain": [
       "<Figure size 432x288 with 1 Axes>"
      ]
     },
     "metadata": {},
     "output_type": "display_data"
    }
   ],
   "source": [
    "#Lymphocytes\n",
    "positives = std_df_positive['Lymphocytes']\n",
    "negatives = std_df_negative['Lymphocytes']\n",
    "\n",
    "plt.hist([positives, negatives], label=['positives', 'negatives'])\n",
    "plt.legend(loc='upper right')\n",
    "plt.show()"
   ]
  },
  {
   "cell_type": "code",
   "execution_count": 151,
   "metadata": {},
   "outputs": [
    {
     "data": {
      "image/png": "[encoded data removed]",
      "text/plain": [
       "<Figure size 432x288 with 1 Axes>"
      ]
     },
     "metadata": {},
     "output_type": "display_data"
    }
   ],
   "source": [
    "#Neutrophils\n",
    "positives = std_df_positive['Neutrophils']\n",
    "negatives = std_df_negative['Neutrophils']\n",
    "\n",
    "plt.hist([positives, negatives], label=['positives', 'negatives'])\n",
    "plt.legend(loc='upper right')\n",
    "plt.show()"
   ]
  },
  {
   "cell_type": "code",
   "execution_count": 152,
   "metadata": {},
   "outputs": [
    {
     "data": {
      "image/png": "[encoded data removed]",
      "text/plain": [
       "<Figure size 432x288 with 1 Axes>"
      ]
     },
     "metadata": {},
     "output_type": "display_data"
    }
   ],
   "source": [
    "#Basophils\n",
    "positives = std_df_positive['Basophils']\n",
    "negatives = std_df_negative['Basophils']\n",
    "\n",
    "plt.hist([positives, negatives], label=['positives', 'negatives'])\n",
    "plt.legend(loc='upper right')\n",
    "plt.show()"
   ]
  },
  {
   "cell_type": "code",
   "execution_count": 153,
   "metadata": {},
   "outputs": [],
   "source": [
    "df_negative = df_negative[['Hemoglobin','Leukocytes', \n",
    "               'Lymphocytes', 'Neutrophils', 'Basophils', 'Monocytes',\n",
    "               'Urea', 'Potassium', 'Sodium', 'Hb saturation (venous blood gas analysis)']]"
   ]
  },
  {
   "cell_type": "code",
   "execution_count": 133,
   "metadata": {},
   "outputs": [
    {
     "data": {
      "image/png": "[encoded data removed]",
      "text/plain": [
       "<Figure size 432x288 with 1 Axes>"
      ]
     },
     "metadata": {},
     "output_type": "display_data"
    }
   ],
   "source": [
    "#Monocytes\n",
    "positives = std_df_positive['Monocytes']\n",
    "negatives = std_df_negative['Monocytes']\n",
    "\n",
    "plt.hist([positives, negatives], label=['positives', 'negatives'])\n",
    "plt.legend(loc='upper right')\n",
    "plt.show()"
   ]
  },
  {
   "cell_type": "code",
   "execution_count": 134,
   "metadata": {},
   "outputs": [
    {
     "data": {
      "image/png": "[encoded data removed]",
      "text/plain": [
       "<Figure size 432x288 with 1 Axes>"
      ]
     },
     "metadata": {},
     "output_type": "display_data"
    }
   ],
   "source": [
    "#Urea\n",
    "positives = std_df_positive['Urea']\n",
    "negatives = std_df_negative['Urea']\n",
    "\n",
    "plt.hist([positives, negatives], label=['positives', 'negatives'])\n",
    "plt.legend(loc='upper right')\n",
    "plt.show()"
   ]
  },
  {
   "cell_type": "code",
   "execution_count": 135,
   "metadata": {},
   "outputs": [
    {
     "data": {
      "image/png": "[encoded data removed]",
      "text/plain": [
       "<Figure size 432x288 with 1 Axes>"
      ]
     },
     "metadata": {},
     "output_type": "display_data"
    }
   ],
   "source": [
    "#Potassium\n",
    "positives = std_df_positive['Potassium']\n",
    "negatives = std_df_negative['Potassium']\n",
    "\n",
    "plt.hist([positives, negatives], label=['positives', 'negatives'])\n",
    "plt.legend(loc='upper right')\n",
    "plt.show()"
   ]
  },
  {
   "cell_type": "code",
   "execution_count": 136,
   "metadata": {},
   "outputs": [
    {
     "data": {
      "image/png": "[encoded data removed]",
      "text/plain": [
       "<Figure size 432x288 with 1 Axes>"
      ]
     },
     "metadata": {},
     "output_type": "display_data"
    }
   ],
   "source": [
    "#Sodium\n",
    "positives = std_df_positive['Sodium']\n",
    "negatives = std_df_negative['Sodium']\n",
    "\n",
    "plt.hist([positives, negatives], label=['positives', 'negatives'])\n",
    "plt.legend(loc='upper right')\n",
    "plt.show()"
   ]
  },
  {
   "cell_type": "code",
   "execution_count": 137,
   "metadata": {},
   "outputs": [
    {
     "data": {
      "image/png": "[encoded data removed]",
      "text/plain": [
       "<Figure size 432x288 with 1 Axes>"
      ]
     },
     "metadata": {},
     "output_type": "display_data"
    }
   ],
   "source": [
    "#Magnesium\n",
    "positives = std_df_positive['Magnesium']\n",
    "negatives = std_df_negative['Magnesium']\n",
    "\n",
    "plt.hist([positives, negatives], label=['positives', 'negatives'])\n",
    "plt.legend(loc='upper right')\n",
    "plt.show()"
   ]
  },
  {
   "cell_type": "code",
   "execution_count": 138,
   "metadata": {},
   "outputs": [
    {
     "data": {
      "image/png": "[encoded data removed]",
      "text/plain": [
       "<Figure size 432x288 with 1 Axes>"
      ]
     },
     "metadata": {},
     "output_type": "display_data"
    }
   ],
   "source": [
    "#Hb saturation (venous blood gas analysis\n",
    "positives = std_df_positive['Hb saturation (venous blood gas analysis)']\n",
    "negatives = std_df_negative['Hb saturation (venous blood gas analysis)']\n",
    "\n",
    "plt.hist([positives, negatives], label=['positives', 'negatives'])\n",
    "plt.legend(loc='upper right')\n",
    "plt.show()"
   ]
  },
  {
   "cell_type": "code",
   "execution_count": 139,
   "metadata": {},
   "outputs": [
    {
     "data": {
      "image/png": "[encoded data removed]",
      "text/plain": [
       "<Figure size 432x288 with 1 Axes>"
      ]
     },
     "metadata": {},
     "output_type": "display_data"
    }
   ],
   "source": [
    "#pH (venous blood gas analysis)\n",
    "positives = std_df_positive['pH (venous blood gas analysis)']\n",
    "negatives = std_df_negative['pH (venous blood gas analysis)']\n",
    "\n",
    "plt.hist([positives, negatives], label=['positives', 'negatives'])\n",
    "plt.legend(loc='upper right')\n",
    "plt.show()"
   ]
  },
  {
   "cell_type": "code",
   "execution_count": 140,
   "metadata": {},
   "outputs": [
    {
     "data": {
      "image/png": "[encoded data removed]",
      "text/plain": [
       "<Figure size 432x288 with 1 Axes>"
      ]
     },
     "metadata": {},
     "output_type": "display_data"
    }
   ],
   "source": [
    "#pO2 (venous blood gas analysis)\n",
    "positives = std_df_positive['pO2 (venous blood gas analysis)']\n",
    "negatives = std_df_negative['pO2 (venous blood gas analysis)']\n",
    "\n",
    "plt.hist([positives, negatives], label=['positives', 'negatives'])\n",
    "plt.legend(loc='upper right')\n",
    "plt.show()"
   ]
  },
  {
   "cell_type": "code",
   "execution_count": 154,
   "metadata": {},
   "outputs": [
    {
     "data": {
      "image/png": "[encoded data removed]",
      "text/plain": [
       "<Figure size 432x288 with 1 Axes>"
      ]
     },
     "metadata": {},
     "output_type": "display_data"
    }
   ],
   "source": [
    "#pCO2 (venous blood gas analysis)\n",
    "positives = std_df_positive['pCO2 (venous blood gas analysis)']\n",
    "negatives = std_df_negative['pCO2 (venous blood gas analysis)']\n",
    "\n",
    "plt.hist([positives, negatives], label=['positives', 'negatives'])\n",
    "plt.legend(loc='upper right')\n",
    "plt.show()"
   ]
  },
  {
   "cell_type": "code",
   "execution_count": null,
   "metadata": {},
   "outputs": [],
   "source": []
  }
 ],
 "metadata": {
  "kernelspec": {
   "display_name": "Python 3",
   "language": "python",
   "name": "python3"
  },
  "language_info": {
   "codemirror_mode": {
    "name": "ipython",
    "version": 3
   },
   "file_extension": ".py",
   "mimetype": "text/x-python",
   "name": "python",
   "nbconvert_exporter": "python",
   "pygments_lexer": "ipython3",
   "version": "3.6.5"
  }
 },
 "nbformat": 4,
 "nbformat_minor": 2
}
