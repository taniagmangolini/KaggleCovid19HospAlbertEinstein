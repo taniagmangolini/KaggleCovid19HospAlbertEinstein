{
 "cells": [
  {
   "cell_type": "code",
   "execution_count": 97,
   "metadata": {},
   "outputs": [],
   "source": [
    "import pandas as pd\n",
    "import numpy as np\n",
    "import matplotlib.pyplot as plt\n",
    "from sklearn.preprocessing import StandardScaler\n",
    "\n",
    "%matplotlib inline"
   ]
  },
  {
   "cell_type": "code",
   "execution_count": 77,
   "metadata": {},
   "outputs": [
    {
     "data": {
      "text/plain": [
       "(5644, 10)"
      ]
     },
     "execution_count": 77,
     "metadata": {},
     "output_type": "execute_result"
    }
   ],
   "source": [
    "# read the data file\n",
    "\n",
    "df = pd.ExcelFile('dataset.xlsx').parse('All'); \n",
    "dfcpy = df.copy()\n",
    "dfcpy = dfcpy[['SARS-Cov-2 exam result',\n",
    "               'Hemoglobin',\n",
    "               'Leukocytes', \n",
    "               'Lymphocytes', \n",
    "               'Neutrophils', \n",
    "               'Basophils', \n",
    "               'Monocytes',\n",
    "               'Urea', \n",
    "               'Potassium', \n",
    "               'Sodium', \n",
    "               #THERE ARE FEWER REGISTERS FOR THE VARIABLES BELOW:\n",
    "               #'Magnesium',\n",
    "               #'Hb saturation (venous blood gas analysis)',\n",
    "               #'pH (venous blood gas analysis)',\n",
    "               #'pO2 (venous blood gas analysis)',\n",
    "               #'pCO2 (venous blood gas analysis)'\n",
    "              ]]\n",
    "dfcpy.shape"
   ]
  },
  {
   "cell_type": "code",
   "execution_count": 78,
   "metadata": {},
   "outputs": [
    {
     "data": {
      "text/plain": [
       "(290, 10)"
      ]
     },
     "execution_count": 78,
     "metadata": {},
     "output_type": "execute_result"
    }
   ],
   "source": [
    "dfcpy = dfcpy.dropna()\n",
    "dfcpy.shape"
   ]
  },
  {
   "cell_type": "code",
   "execution_count": 79,
   "metadata": {},
   "outputs": [
    {
     "data": {
      "text/html": [
       "<div>\n",
       "<style scoped>\n",
       "    .dataframe tbody tr th:only-of-type {\n",
       "        vertical-align: middle;\n",
       "    }\n",
       "\n",
       "    .dataframe tbody tr th {\n",
       "        vertical-align: top;\n",
       "    }\n",
       "\n",
       "    .dataframe thead th {\n",
       "        text-align: right;\n",
       "    }\n",
       "</style>\n",
       "<table border=\"1\" class=\"dataframe\">\n",
       "  <thead>\n",
       "    <tr style=\"text-align: right;\">\n",
       "      <th></th>\n",
       "      <th>Hemoglobin</th>\n",
       "      <th>Leukocytes</th>\n",
       "      <th>Lymphocytes</th>\n",
       "      <th>Neutrophils</th>\n",
       "      <th>Basophils</th>\n",
       "      <th>Monocytes</th>\n",
       "      <th>Urea</th>\n",
       "      <th>Potassium</th>\n",
       "      <th>Sodium</th>\n",
       "    </tr>\n",
       "  </thead>\n",
       "  <tbody>\n",
       "    <tr>\n",
       "      <th>count</th>\n",
       "      <td>290.000000</td>\n",
       "      <td>290.000000</td>\n",
       "      <td>290.000000</td>\n",
       "      <td>290.000000</td>\n",
       "      <td>290.000000</td>\n",
       "      <td>290.000000</td>\n",
       "      <td>290.000000</td>\n",
       "      <td>290.000000</td>\n",
       "      <td>290.000000</td>\n",
       "    </tr>\n",
       "    <tr>\n",
       "      <th>mean</th>\n",
       "      <td>-0.011969</td>\n",
       "      <td>-0.152953</td>\n",
       "      <td>0.012996</td>\n",
       "      <td>0.009374</td>\n",
       "      <td>0.108025</td>\n",
       "      <td>0.149615</td>\n",
       "      <td>-0.015205</td>\n",
       "      <td>-0.036467</td>\n",
       "      <td>0.012392</td>\n",
       "    </tr>\n",
       "    <tr>\n",
       "      <th>std</th>\n",
       "      <td>1.012956</td>\n",
       "      <td>0.828697</td>\n",
       "      <td>0.947085</td>\n",
       "      <td>1.016854</td>\n",
       "      <td>0.802123</td>\n",
       "      <td>0.979502</td>\n",
       "      <td>0.801061</td>\n",
       "      <td>0.949789</td>\n",
       "      <td>0.954642</td>\n",
       "    </tr>\n",
       "    <tr>\n",
       "      <th>min</th>\n",
       "      <td>-3.593731</td>\n",
       "      <td>-1.928470</td>\n",
       "      <td>-1.830953</td>\n",
       "      <td>-2.626823</td>\n",
       "      <td>-1.140144</td>\n",
       "      <td>-2.084932</td>\n",
       "      <td>-1.630410</td>\n",
       "      <td>-2.283079</td>\n",
       "      <td>-5.246946</td>\n",
       "    </tr>\n",
       "    <tr>\n",
       "      <th>25%</th>\n",
       "      <td>-0.633236</td>\n",
       "      <td>-0.717956</td>\n",
       "      <td>-0.634755</td>\n",
       "      <td>-0.688742</td>\n",
       "      <td>-0.529226</td>\n",
       "      <td>-0.456613</td>\n",
       "      <td>-0.513909</td>\n",
       "      <td>-0.800110</td>\n",
       "      <td>-0.575008</td>\n",
       "    </tr>\n",
       "    <tr>\n",
       "      <th>50%</th>\n",
       "      <td>0.040316</td>\n",
       "      <td>-0.322799</td>\n",
       "      <td>-0.005738</td>\n",
       "      <td>-0.045447</td>\n",
       "      <td>0.081693</td>\n",
       "      <td>-0.088928</td>\n",
       "      <td>-0.141742</td>\n",
       "      <td>-0.058626</td>\n",
       "      <td>0.143752</td>\n",
       "    </tr>\n",
       "    <tr>\n",
       "      <th>75%</th>\n",
       "      <td>0.713868</td>\n",
       "      <td>0.305416</td>\n",
       "      <td>0.580634</td>\n",
       "      <td>0.679797</td>\n",
       "      <td>0.692611</td>\n",
       "      <td>0.587350</td>\n",
       "      <td>0.453725</td>\n",
       "      <td>0.682859</td>\n",
       "      <td>0.503132</td>\n",
       "    </tr>\n",
       "    <tr>\n",
       "      <th>max</th>\n",
       "      <td>2.671868</td>\n",
       "      <td>2.949764</td>\n",
       "      <td>3.218241</td>\n",
       "      <td>2.535929</td>\n",
       "      <td>3.136283</td>\n",
       "      <td>4.533397</td>\n",
       "      <td>4.473129</td>\n",
       "      <td>3.401635</td>\n",
       "      <td>3.737550</td>\n",
       "    </tr>\n",
       "  </tbody>\n",
       "</table>\n",
       "</div>"
      ],
      "text/plain": [
       "       Hemoglobin  Leukocytes  Lymphocytes  Neutrophils   Basophils  \\\n",
       "count  290.000000  290.000000   290.000000   290.000000  290.000000   \n",
       "mean    -0.011969   -0.152953     0.012996     0.009374    0.108025   \n",
       "std      1.012956    0.828697     0.947085     1.016854    0.802123   \n",
       "min     -3.593731   -1.928470    -1.830953    -2.626823   -1.140144   \n",
       "25%     -0.633236   -0.717956    -0.634755    -0.688742   -0.529226   \n",
       "50%      0.040316   -0.322799    -0.005738    -0.045447    0.081693   \n",
       "75%      0.713868    0.305416     0.580634     0.679797    0.692611   \n",
       "max      2.671868    2.949764     3.218241     2.535929    3.136283   \n",
       "\n",
       "        Monocytes        Urea   Potassium      Sodium  \n",
       "count  290.000000  290.000000  290.000000  290.000000  \n",
       "mean     0.149615   -0.015205   -0.036467    0.012392  \n",
       "std      0.979502    0.801061    0.949789    0.954642  \n",
       "min     -2.084932   -1.630410   -2.283079   -5.246946  \n",
       "25%     -0.456613   -0.513909   -0.800110   -0.575008  \n",
       "50%     -0.088928   -0.141742   -0.058626    0.143752  \n",
       "75%      0.587350    0.453725    0.682859    0.503132  \n",
       "max      4.533397    4.473129    3.401635    3.737550  "
      ]
     },
     "execution_count": 79,
     "metadata": {},
     "output_type": "execute_result"
    }
   ],
   "source": [
    "\n",
    "dfcpy.describe()"
   ]
  },
  {
   "cell_type": "code",
   "execution_count": null,
   "metadata": {},
   "outputs": [],
   "source": []
  },
  {
   "cell_type": "code",
   "execution_count": 80,
   "metadata": {},
   "outputs": [
    {
     "data": {
      "text/html": [
       "<div>\n",
       "<style scoped>\n",
       "    .dataframe tbody tr th:only-of-type {\n",
       "        vertical-align: middle;\n",
       "    }\n",
       "\n",
       "    .dataframe tbody tr th {\n",
       "        vertical-align: top;\n",
       "    }\n",
       "\n",
       "    .dataframe thead th {\n",
       "        text-align: right;\n",
       "    }\n",
       "</style>\n",
       "<table border=\"1\" class=\"dataframe\">\n",
       "  <thead>\n",
       "    <tr style=\"text-align: right;\">\n",
       "      <th></th>\n",
       "      <th>Hemoglobin</th>\n",
       "      <th>Leukocytes</th>\n",
       "      <th>Lymphocytes</th>\n",
       "      <th>Neutrophils</th>\n",
       "      <th>Basophils</th>\n",
       "      <th>Monocytes</th>\n",
       "      <th>Urea</th>\n",
       "      <th>Potassium</th>\n",
       "      <th>Sodium</th>\n",
       "    </tr>\n",
       "  </thead>\n",
       "  <tbody>\n",
       "    <tr>\n",
       "      <th>568</th>\n",
       "      <td>0.792188</td>\n",
       "      <td>-0.420197</td>\n",
       "      <td>-0.048383</td>\n",
       "      <td>-0.414215</td>\n",
       "      <td>1.303529</td>\n",
       "      <td>1.933339</td>\n",
       "      <td>-0.513909</td>\n",
       "      <td>-0.058626</td>\n",
       "      <td>0.143752</td>\n",
       "    </tr>\n",
       "    <tr>\n",
       "      <th>884</th>\n",
       "      <td>-0.398276</td>\n",
       "      <td>-0.820919</td>\n",
       "      <td>-0.935404</td>\n",
       "      <td>1.282118</td>\n",
       "      <td>-1.140144</td>\n",
       "      <td>-0.456613</td>\n",
       "      <td>0.974759</td>\n",
       "      <td>-1.047272</td>\n",
       "      <td>0.862512</td>\n",
       "    </tr>\n",
       "    <tr>\n",
       "      <th>1108</th>\n",
       "      <td>-0.648900</td>\n",
       "      <td>-0.968407</td>\n",
       "      <td>-0.099557</td>\n",
       "      <td>-0.315877</td>\n",
       "      <td>-0.529226</td>\n",
       "      <td>1.513128</td>\n",
       "      <td>0.304858</td>\n",
       "      <td>0.682859</td>\n",
       "      <td>1.940651</td>\n",
       "    </tr>\n",
       "    <tr>\n",
       "      <th>1162</th>\n",
       "      <td>-0.272964</td>\n",
       "      <td>-0.573250</td>\n",
       "      <td>-0.457777</td>\n",
       "      <td>-0.127395</td>\n",
       "      <td>-0.223767</td>\n",
       "      <td>2.537393</td>\n",
       "      <td>-0.588343</td>\n",
       "      <td>-0.800110</td>\n",
       "      <td>-0.575008</td>\n",
       "    </tr>\n",
       "    <tr>\n",
       "      <th>1494</th>\n",
       "      <td>-0.147652</td>\n",
       "      <td>-1.335736</td>\n",
       "      <td>1.614780</td>\n",
       "      <td>-1.782754</td>\n",
       "      <td>-0.223767</td>\n",
       "      <td>0.725232</td>\n",
       "      <td>-0.886076</td>\n",
       "      <td>-0.305787</td>\n",
       "      <td>0.143752</td>\n",
       "    </tr>\n",
       "  </tbody>\n",
       "</table>\n",
       "</div>"
      ],
      "text/plain": [
       "      Hemoglobin  Leukocytes  Lymphocytes  Neutrophils  Basophils  Monocytes  \\\n",
       "568     0.792188   -0.420197    -0.048383    -0.414215   1.303529   1.933339   \n",
       "884    -0.398276   -0.820919    -0.935404     1.282118  -1.140144  -0.456613   \n",
       "1108   -0.648900   -0.968407    -0.099557    -0.315877  -0.529226   1.513128   \n",
       "1162   -0.272964   -0.573250    -0.457777    -0.127395  -0.223767   2.537393   \n",
       "1494   -0.147652   -1.335736     1.614780    -1.782754  -0.223767   0.725232   \n",
       "\n",
       "          Urea  Potassium    Sodium  \n",
       "568  -0.513909  -0.058626  0.143752  \n",
       "884   0.974759  -1.047272  0.862512  \n",
       "1108  0.304858   0.682859  1.940651  \n",
       "1162 -0.588343  -0.800110 -0.575008  \n",
       "1494 -0.886076  -0.305787  0.143752  "
      ]
     },
     "execution_count": 80,
     "metadata": {},
     "output_type": "execute_result"
    }
   ],
   "source": [
    "df_positive = dfcpy[dfcpy['SARS-Cov-2 exam result'] == 'positive']\n",
    "df_positive = df_positive[['Hemoglobin','Leukocytes', \n",
    "               'Lymphocytes', 'Neutrophils', 'Basophils', 'Monocytes',\n",
    "               'Urea', 'Potassium', 'Sodium'\n",
    "               #'Magnesium',\n",
    "               #'Hb saturation (venous blood gas analysis)',\n",
    "               #'pH (venous blood gas analysis)', 'pO2 (venous blood gas analysis)',\n",
    "               #'pCO2 (venous blood gas analysis)'\n",
    "                ]]\n",
    "df_positive = df_positive.dropna()\n",
    "df_positive.head()"
   ]
  },
  {
   "cell_type": "code",
   "execution_count": 81,
   "metadata": {},
   "outputs": [
    {
     "data": {
      "text/html": [
       "<div>\n",
       "<style scoped>\n",
       "    .dataframe tbody tr th:only-of-type {\n",
       "        vertical-align: middle;\n",
       "    }\n",
       "\n",
       "    .dataframe tbody tr th {\n",
       "        vertical-align: top;\n",
       "    }\n",
       "\n",
       "    .dataframe thead th {\n",
       "        text-align: right;\n",
       "    }\n",
       "</style>\n",
       "<table border=\"1\" class=\"dataframe\">\n",
       "  <thead>\n",
       "    <tr style=\"text-align: right;\">\n",
       "      <th></th>\n",
       "      <th>Hemoglobin</th>\n",
       "      <th>Leukocytes</th>\n",
       "      <th>Lymphocytes</th>\n",
       "      <th>Neutrophils</th>\n",
       "      <th>Basophils</th>\n",
       "      <th>Monocytes</th>\n",
       "      <th>Urea</th>\n",
       "      <th>Potassium</th>\n",
       "      <th>Sodium</th>\n",
       "    </tr>\n",
       "  </thead>\n",
       "  <tbody>\n",
       "    <tr>\n",
       "      <th>1</th>\n",
       "      <td>-0.022340</td>\n",
       "      <td>-0.094610</td>\n",
       "      <td>0.318366</td>\n",
       "      <td>-0.619086</td>\n",
       "      <td>-0.223767</td>\n",
       "      <td>0.357547</td>\n",
       "      <td>1.198059</td>\n",
       "      <td>-0.305787</td>\n",
       "      <td>0.862512</td>\n",
       "    </tr>\n",
       "    <tr>\n",
       "      <th>8</th>\n",
       "      <td>-0.774212</td>\n",
       "      <td>0.364550</td>\n",
       "      <td>-0.005738</td>\n",
       "      <td>-0.127395</td>\n",
       "      <td>-0.223767</td>\n",
       "      <td>0.068652</td>\n",
       "      <td>-0.067309</td>\n",
       "      <td>0.930020</td>\n",
       "      <td>0.503132</td>\n",
       "    </tr>\n",
       "    <tr>\n",
       "      <th>15</th>\n",
       "      <td>-0.586244</td>\n",
       "      <td>-0.884923</td>\n",
       "      <td>-1.114514</td>\n",
       "      <td>0.880570</td>\n",
       "      <td>0.081693</td>\n",
       "      <td>1.276759</td>\n",
       "      <td>-0.811643</td>\n",
       "      <td>0.435697</td>\n",
       "      <td>-0.215628</td>\n",
       "    </tr>\n",
       "    <tr>\n",
       "      <th>22</th>\n",
       "      <td>-0.147652</td>\n",
       "      <td>-1.132592</td>\n",
       "      <td>0.002791</td>\n",
       "      <td>-0.422410</td>\n",
       "      <td>0.387152</td>\n",
       "      <td>2.012129</td>\n",
       "      <td>-1.332677</td>\n",
       "      <td>-0.552949</td>\n",
       "      <td>-0.575008</td>\n",
       "    </tr>\n",
       "    <tr>\n",
       "      <th>30</th>\n",
       "      <td>-0.711556</td>\n",
       "      <td>-0.286623</td>\n",
       "      <td>-0.875701</td>\n",
       "      <td>0.782232</td>\n",
       "      <td>-0.223767</td>\n",
       "      <td>0.804021</td>\n",
       "      <td>-0.439476</td>\n",
       "      <td>0.435697</td>\n",
       "      <td>-1.653147</td>\n",
       "    </tr>\n",
       "  </tbody>\n",
       "</table>\n",
       "</div>"
      ],
      "text/plain": [
       "    Hemoglobin  Leukocytes  Lymphocytes  Neutrophils  Basophils  Monocytes  \\\n",
       "1    -0.022340   -0.094610     0.318366    -0.619086  -0.223767   0.357547   \n",
       "8    -0.774212    0.364550    -0.005738    -0.127395  -0.223767   0.068652   \n",
       "15   -0.586244   -0.884923    -1.114514     0.880570   0.081693   1.276759   \n",
       "22   -0.147652   -1.132592     0.002791    -0.422410   0.387152   2.012129   \n",
       "30   -0.711556   -0.286623    -0.875701     0.782232  -0.223767   0.804021   \n",
       "\n",
       "        Urea  Potassium    Sodium  \n",
       "1   1.198059  -0.305787  0.862512  \n",
       "8  -0.067309   0.930020  0.503132  \n",
       "15 -0.811643   0.435697 -0.215628  \n",
       "22 -1.332677  -0.552949 -0.575008  \n",
       "30 -0.439476   0.435697 -1.653147  "
      ]
     },
     "execution_count": 81,
     "metadata": {},
     "output_type": "execute_result"
    }
   ],
   "source": [
    "df_negative = dfcpy[dfcpy['SARS-Cov-2 exam result'] == 'negative']\n",
    "df_negative = df_negative[['Hemoglobin','Leukocytes', \n",
    "               'Lymphocytes', 'Neutrophils', 'Basophils', 'Monocytes',\n",
    "               'Urea', 'Potassium', 'Sodium'\n",
    "                #, 'Magnesium', 'Hb saturation (venous blood gas analysis)',\n",
    "               #'pH (venous blood gas analysis)','pO2 (venous blood gas analysis)',\n",
    "               #'pCO2 (venous blood gas analysis)'\n",
    "                ]]\n",
    "df_negative = df_negative.dropna()\n",
    "df_negative.head()"
   ]
  },
  {
   "cell_type": "code",
   "execution_count": 82,
   "metadata": {},
   "outputs": [
    {
     "data": {
      "text/html": [
       "<div>\n",
       "<style scoped>\n",
       "    .dataframe tbody tr th:only-of-type {\n",
       "        vertical-align: middle;\n",
       "    }\n",
       "\n",
       "    .dataframe tbody tr th {\n",
       "        vertical-align: top;\n",
       "    }\n",
       "\n",
       "    .dataframe thead th {\n",
       "        text-align: right;\n",
       "    }\n",
       "</style>\n",
       "<table border=\"1\" class=\"dataframe\">\n",
       "  <thead>\n",
       "    <tr style=\"text-align: right;\">\n",
       "      <th></th>\n",
       "      <th>Hemoglobin</th>\n",
       "      <th>Leukocytes</th>\n",
       "      <th>Lymphocytes</th>\n",
       "      <th>Neutrophils</th>\n",
       "      <th>Basophils</th>\n",
       "      <th>Monocytes</th>\n",
       "      <th>Urea</th>\n",
       "      <th>Potassium</th>\n",
       "      <th>Sodium</th>\n",
       "    </tr>\n",
       "  </thead>\n",
       "  <tbody>\n",
       "    <tr>\n",
       "      <th>1</th>\n",
       "      <td>0.041503</td>\n",
       "      <td>-0.097060</td>\n",
       "      <td>0.339118</td>\n",
       "      <td>-0.633777</td>\n",
       "      <td>-0.462848</td>\n",
       "      <td>0.324295</td>\n",
       "      <td>1.437671</td>\n",
       "      <td>-0.331186</td>\n",
       "      <td>0.852548</td>\n",
       "    </tr>\n",
       "    <tr>\n",
       "      <th>8</th>\n",
       "      <td>-0.679899</td>\n",
       "      <td>0.463017</td>\n",
       "      <td>0.001302</td>\n",
       "      <td>-0.157622</td>\n",
       "      <td>-0.462848</td>\n",
       "      <td>0.016841</td>\n",
       "      <td>-0.095870</td>\n",
       "      <td>0.945483</td>\n",
       "      <td>0.477301</td>\n",
       "    </tr>\n",
       "    <tr>\n",
       "      <th>15</th>\n",
       "      <td>-0.499548</td>\n",
       "      <td>-1.061070</td>\n",
       "      <td>-1.154386</td>\n",
       "      <td>0.818495</td>\n",
       "      <td>-0.091638</td>\n",
       "      <td>1.302560</td>\n",
       "      <td>-0.997953</td>\n",
       "      <td>0.434815</td>\n",
       "      <td>-0.273192</td>\n",
       "    </tr>\n",
       "    <tr>\n",
       "      <th>22</th>\n",
       "      <td>-0.078731</td>\n",
       "      <td>-1.363172</td>\n",
       "      <td>0.010192</td>\n",
       "      <td>-0.443316</td>\n",
       "      <td>0.279573</td>\n",
       "      <td>2.085172</td>\n",
       "      <td>-1.629411</td>\n",
       "      <td>-0.586520</td>\n",
       "      <td>-0.648439</td>\n",
       "    </tr>\n",
       "    <tr>\n",
       "      <th>30</th>\n",
       "      <td>-0.619782</td>\n",
       "      <td>-0.331274</td>\n",
       "      <td>-0.905469</td>\n",
       "      <td>0.723264</td>\n",
       "      <td>-0.462848</td>\n",
       "      <td>0.799452</td>\n",
       "      <td>-0.546911</td>\n",
       "      <td>0.434815</td>\n",
       "      <td>-1.774179</td>\n",
       "    </tr>\n",
       "  </tbody>\n",
       "</table>\n",
       "</div>"
      ],
      "text/plain": [
       "    Hemoglobin  Leukocytes  Lymphocytes  Neutrophils  Basophils  Monocytes  \\\n",
       "1     0.041503   -0.097060     0.339118    -0.633777  -0.462848   0.324295   \n",
       "8    -0.679899    0.463017     0.001302    -0.157622  -0.462848   0.016841   \n",
       "15   -0.499548   -1.061070    -1.154386     0.818495  -0.091638   1.302560   \n",
       "22   -0.078731   -1.363172     0.010192    -0.443316   0.279573   2.085172   \n",
       "30   -0.619782   -0.331274    -0.905469     0.723264  -0.462848   0.799452   \n",
       "\n",
       "        Urea  Potassium    Sodium  \n",
       "1   1.437671  -0.331186  0.852548  \n",
       "8  -0.095870   0.945483  0.477301  \n",
       "15 -0.997953   0.434815 -0.273192  \n",
       "22 -1.629411  -0.586520 -0.648439  \n",
       "30 -0.546911   0.434815 -1.774179  "
      ]
     },
     "execution_count": 82,
     "metadata": {},
     "output_type": "execute_result"
    }
   ],
   "source": [
    "#standardization\n",
    "scaler = StandardScaler()\n",
    "std_data = scaler.fit_transform(df_negative.values)\n",
    "std_df_negative = pd.DataFrame(std_data, index=df_negative.index, columns=df_negative.columns)\n",
    "std_df_negative.head()"
   ]
  },
  {
   "cell_type": "code",
   "execution_count": 83,
   "metadata": {},
   "outputs": [
    {
     "data": {
      "text/html": [
       "<div>\n",
       "<style scoped>\n",
       "    .dataframe tbody tr th:only-of-type {\n",
       "        vertical-align: middle;\n",
       "    }\n",
       "\n",
       "    .dataframe tbody tr th {\n",
       "        vertical-align: top;\n",
       "    }\n",
       "\n",
       "    .dataframe thead th {\n",
       "        text-align: right;\n",
       "    }\n",
       "</style>\n",
       "<table border=\"1\" class=\"dataframe\">\n",
       "  <thead>\n",
       "    <tr style=\"text-align: right;\">\n",
       "      <th></th>\n",
       "      <th>Hemoglobin</th>\n",
       "      <th>Leukocytes</th>\n",
       "      <th>Lymphocytes</th>\n",
       "      <th>Neutrophils</th>\n",
       "      <th>Basophils</th>\n",
       "      <th>Monocytes</th>\n",
       "      <th>Urea</th>\n",
       "      <th>Potassium</th>\n",
       "      <th>Sodium</th>\n",
       "    </tr>\n",
       "  </thead>\n",
       "  <tbody>\n",
       "    <tr>\n",
       "      <th>568</th>\n",
       "      <td>0.687139</td>\n",
       "      <td>0.781905</td>\n",
       "      <td>-0.177987</td>\n",
       "      <td>-0.328427</td>\n",
       "      <td>2.230052</td>\n",
       "      <td>1.298386</td>\n",
       "      <td>-0.570021</td>\n",
       "      <td>0.270340</td>\n",
       "      <td>0.316021</td>\n",
       "    </tr>\n",
       "    <tr>\n",
       "      <th>884</th>\n",
       "      <td>-0.792500</td>\n",
       "      <td>-0.044683</td>\n",
       "      <td>-1.196374</td>\n",
       "      <td>1.517797</td>\n",
       "      <td>-1.592895</td>\n",
       "      <td>-1.034486</td>\n",
       "      <td>1.710062</td>\n",
       "      <td>-0.955201</td>\n",
       "      <td>1.102220</td>\n",
       "    </tr>\n",
       "    <tr>\n",
       "      <th>1108</th>\n",
       "      <td>-1.104004</td>\n",
       "      <td>-0.348914</td>\n",
       "      <td>-0.236740</td>\n",
       "      <td>-0.221400</td>\n",
       "      <td>-0.637158</td>\n",
       "      <td>0.888211</td>\n",
       "      <td>0.684025</td>\n",
       "      <td>1.189495</td>\n",
       "      <td>2.281518</td>\n",
       "    </tr>\n",
       "    <tr>\n",
       "      <th>1162</th>\n",
       "      <td>-0.636749</td>\n",
       "      <td>0.466194</td>\n",
       "      <td>-0.648012</td>\n",
       "      <td>-0.016264</td>\n",
       "      <td>-0.159289</td>\n",
       "      <td>1.888013</td>\n",
       "      <td>-0.684025</td>\n",
       "      <td>-0.648815</td>\n",
       "      <td>-0.470178</td>\n",
       "    </tr>\n",
       "    <tr>\n",
       "      <th>1494</th>\n",
       "      <td>-0.480997</td>\n",
       "      <td>-1.106620</td>\n",
       "      <td>1.731488</td>\n",
       "      <td>-1.817894</td>\n",
       "      <td>-0.159289</td>\n",
       "      <td>0.119132</td>\n",
       "      <td>-1.140041</td>\n",
       "      <td>-0.036045</td>\n",
       "      <td>0.316021</td>\n",
       "    </tr>\n",
       "  </tbody>\n",
       "</table>\n",
       "</div>"
      ],
      "text/plain": [
       "      Hemoglobin  Leukocytes  Lymphocytes  Neutrophils  Basophils  Monocytes  \\\n",
       "568     0.687139    0.781905    -0.177987    -0.328427   2.230052   1.298386   \n",
       "884    -0.792500   -0.044683    -1.196374     1.517797  -1.592895  -1.034486   \n",
       "1108   -1.104004   -0.348914    -0.236740    -0.221400  -0.637158   0.888211   \n",
       "1162   -0.636749    0.466194    -0.648012    -0.016264  -0.159289   1.888013   \n",
       "1494   -0.480997   -1.106620     1.731488    -1.817894  -0.159289   0.119132   \n",
       "\n",
       "          Urea  Potassium    Sodium  \n",
       "568  -0.570021   0.270340  0.316021  \n",
       "884   1.710062  -0.955201  1.102220  \n",
       "1108  0.684025   1.189495  2.281518  \n",
       "1162 -0.684025  -0.648815 -0.470178  \n",
       "1494 -1.140041  -0.036045  0.316021  "
      ]
     },
     "execution_count": 83,
     "metadata": {},
     "output_type": "execute_result"
    }
   ],
   "source": [
    "#standardization\n",
    "scaler = StandardScaler()\n",
    "std_data_pos= scaler.fit_transform(df_positive.values)\n",
    "std_df_positive = pd.DataFrame(std_data_pos, index=df_positive.index, columns=df_positive.columns)\n",
    "std_df_positive.head()"
   ]
  },
  {
   "cell_type": "code",
   "execution_count": 84,
   "metadata": {},
   "outputs": [
    {
     "data": {
      "image/png": "[encoded data removed]",
      "text/plain": [
       "<Figure size 432x288 with 1 Axes>"
      ]
     },
     "metadata": {},
     "output_type": "display_data"
    }
   ],
   "source": [
    "#Hemoglobin\n",
    "positives = std_df_positive['Hemoglobin']\n",
    "negatives = std_df_negative['Hemoglobin']\n",
    "\n",
    "plt.hist([positives, negatives], label=['positives', 'negatives'],stacked=True)\n",
    "plt.legend(loc='upper right')\n",
    "plt.show()"
   ]
  },
  {
   "cell_type": "code",
   "execution_count": null,
   "metadata": {},
   "outputs": [],
   "source": []
  },
  {
   "cell_type": "code",
   "execution_count": 85,
   "metadata": {},
   "outputs": [
    {
     "data": {
      "image/png": "[encoded data removed]",
      "text/plain": [
       "<Figure size 432x288 with 1 Axes>"
      ]
     },
     "metadata": {},
     "output_type": "display_data"
    }
   ],
   "source": [
    "#Leukocytes\n",
    "positives = std_df_positive['Leukocytes']\n",
    "negatives = std_df_negative['Leukocytes']\n",
    "\n",
    "plt.hist([positives, negatives], label=['positives', 'negatives'],stacked=True)\n",
    "plt.legend(loc='upper right')\n",
    "plt.show()"
   ]
  },
  {
   "cell_type": "code",
   "execution_count": 86,
   "metadata": {},
   "outputs": [
    {
     "data": {
      "image/png": "[encoded data removed]",
      "text/plain": [
       "<Figure size 432x288 with 1 Axes>"
      ]
     },
     "metadata": {},
     "output_type": "display_data"
    }
   ],
   "source": [
    "#Lymphocytes\n",
    "positives = std_df_positive['Lymphocytes']\n",
    "negatives = std_df_negative['Lymphocytes']\n",
    "\n",
    "plt.hist([positives, negatives], label=['positives', 'negatives'],stacked=True)\n",
    "plt.legend(loc='upper right')\n",
    "plt.show()"
   ]
  },
  {
   "cell_type": "code",
   "execution_count": 87,
   "metadata": {},
   "outputs": [
    {
     "data": {
      "image/png": "[encoded data removed]",
      "text/plain": [
       "<Figure size 432x288 with 1 Axes>"
      ]
     },
     "metadata": {},
     "output_type": "display_data"
    }
   ],
   "source": [
    "#Neutrophils\n",
    "positives = std_df_positive['Neutrophils']\n",
    "negatives = std_df_negative['Neutrophils']\n",
    "\n",
    "plt.hist([positives, negatives], label=['positives', 'negatives'],stacked=True)\n",
    "plt.legend(loc='upper right')\n",
    "plt.show()"
   ]
  },
  {
   "cell_type": "code",
   "execution_count": 88,
   "metadata": {},
   "outputs": [
    {
     "data": {
      "image/png": "[encoded data removed]",
      "text/plain": [
       "<Figure size 432x288 with 1 Axes>"
      ]
     },
     "metadata": {},
     "output_type": "display_data"
    }
   ],
   "source": [
    "#Basophils\n",
    "positives = std_df_positive['Basophils']\n",
    "negatives = std_df_negative['Basophils']\n",
    "\n",
    "plt.hist([positives, negatives], label=['positives', 'negatives'],stacked=True)\n",
    "plt.legend(loc='upper right')\n",
    "plt.show()"
   ]
  },
  {
   "cell_type": "code",
   "execution_count": 89,
   "metadata": {},
   "outputs": [
    {
     "ename": "KeyError",
     "evalue": "\"['Hb saturation (venous blood gas analysis)'] not in index\"",
     "output_type": "error",
     "traceback": [
      "\u001b[0;31m---------------------------------------------------------------------------\u001b[0m",
      "\u001b[0;31mKeyError\u001b[0m                                  Traceback (most recent call last)",
      "\u001b[0;32m<ipython-input-89-12851a16fb76>\u001b[0m in \u001b[0;36m<module>\u001b[0;34m()\u001b[0m\n\u001b[1;32m      1\u001b[0m df_negative = df_negative[['Hemoglobin','Leukocytes', \n\u001b[1;32m      2\u001b[0m                \u001b[0;34m'Lymphocytes'\u001b[0m\u001b[0;34m,\u001b[0m \u001b[0;34m'Neutrophils'\u001b[0m\u001b[0;34m,\u001b[0m \u001b[0;34m'Basophils'\u001b[0m\u001b[0;34m,\u001b[0m \u001b[0;34m'Monocytes'\u001b[0m\u001b[0;34m,\u001b[0m\u001b[0;34m\u001b[0m\u001b[0m\n\u001b[0;32m----> 3\u001b[0;31m                'Urea', 'Potassium', 'Sodium', 'Hb saturation (venous blood gas analysis)']]\n\u001b[0m",
      "\u001b[0;32m~/anaconda3/lib/python3.6/site-packages/pandas/core/frame.py\u001b[0m in \u001b[0;36m__getitem__\u001b[0;34m(self, key)\u001b[0m\n\u001b[1;32m   2677\u001b[0m         \u001b[0;32mif\u001b[0m \u001b[0misinstance\u001b[0m\u001b[0;34m(\u001b[0m\u001b[0mkey\u001b[0m\u001b[0;34m,\u001b[0m \u001b[0;34m(\u001b[0m\u001b[0mSeries\u001b[0m\u001b[0;34m,\u001b[0m \u001b[0mnp\u001b[0m\u001b[0;34m.\u001b[0m\u001b[0mndarray\u001b[0m\u001b[0;34m,\u001b[0m \u001b[0mIndex\u001b[0m\u001b[0;34m,\u001b[0m \u001b[0mlist\u001b[0m\u001b[0;34m)\u001b[0m\u001b[0;34m)\u001b[0m\u001b[0;34m:\u001b[0m\u001b[0;34m\u001b[0m\u001b[0m\n\u001b[1;32m   2678\u001b[0m             \u001b[0;31m# either boolean or fancy integer index\u001b[0m\u001b[0;34m\u001b[0m\u001b[0;34m\u001b[0m\u001b[0m\n\u001b[0;32m-> 2679\u001b[0;31m             \u001b[0;32mreturn\u001b[0m \u001b[0mself\u001b[0m\u001b[0;34m.\u001b[0m\u001b[0m_getitem_array\u001b[0m\u001b[0;34m(\u001b[0m\u001b[0mkey\u001b[0m\u001b[0;34m)\u001b[0m\u001b[0;34m\u001b[0m\u001b[0m\n\u001b[0m\u001b[1;32m   2680\u001b[0m         \u001b[0;32melif\u001b[0m \u001b[0misinstance\u001b[0m\u001b[0;34m(\u001b[0m\u001b[0mkey\u001b[0m\u001b[0;34m,\u001b[0m \u001b[0mDataFrame\u001b[0m\u001b[0;34m)\u001b[0m\u001b[0;34m:\u001b[0m\u001b[0;34m\u001b[0m\u001b[0m\n\u001b[1;32m   2681\u001b[0m             \u001b[0;32mreturn\u001b[0m \u001b[0mself\u001b[0m\u001b[0;34m.\u001b[0m\u001b[0m_getitem_frame\u001b[0m\u001b[0;34m(\u001b[0m\u001b[0mkey\u001b[0m\u001b[0;34m)\u001b[0m\u001b[0;34m\u001b[0m\u001b[0m\n",
      "\u001b[0;32m~/anaconda3/lib/python3.6/site-packages/pandas/core/frame.py\u001b[0m in \u001b[0;36m_getitem_array\u001b[0;34m(self, key)\u001b[0m\n\u001b[1;32m   2721\u001b[0m             \u001b[0;32mreturn\u001b[0m \u001b[0mself\u001b[0m\u001b[0;34m.\u001b[0m\u001b[0m_take\u001b[0m\u001b[0;34m(\u001b[0m\u001b[0mindexer\u001b[0m\u001b[0;34m,\u001b[0m \u001b[0maxis\u001b[0m\u001b[0;34m=\u001b[0m\u001b[0;36m0\u001b[0m\u001b[0;34m)\u001b[0m\u001b[0;34m\u001b[0m\u001b[0m\n\u001b[1;32m   2722\u001b[0m         \u001b[0;32melse\u001b[0m\u001b[0;34m:\u001b[0m\u001b[0;34m\u001b[0m\u001b[0m\n\u001b[0;32m-> 2723\u001b[0;31m             \u001b[0mindexer\u001b[0m \u001b[0;34m=\u001b[0m \u001b[0mself\u001b[0m\u001b[0;34m.\u001b[0m\u001b[0mloc\u001b[0m\u001b[0;34m.\u001b[0m\u001b[0m_convert_to_indexer\u001b[0m\u001b[0;34m(\u001b[0m\u001b[0mkey\u001b[0m\u001b[0;34m,\u001b[0m \u001b[0maxis\u001b[0m\u001b[0;34m=\u001b[0m\u001b[0;36m1\u001b[0m\u001b[0;34m)\u001b[0m\u001b[0;34m\u001b[0m\u001b[0m\n\u001b[0m\u001b[1;32m   2724\u001b[0m             \u001b[0;32mreturn\u001b[0m \u001b[0mself\u001b[0m\u001b[0;34m.\u001b[0m\u001b[0m_take\u001b[0m\u001b[0;34m(\u001b[0m\u001b[0mindexer\u001b[0m\u001b[0;34m,\u001b[0m \u001b[0maxis\u001b[0m\u001b[0;34m=\u001b[0m\u001b[0;36m1\u001b[0m\u001b[0;34m)\u001b[0m\u001b[0;34m\u001b[0m\u001b[0m\n\u001b[1;32m   2725\u001b[0m \u001b[0;34m\u001b[0m\u001b[0m\n",
      "\u001b[0;32m~/anaconda3/lib/python3.6/site-packages/pandas/core/indexing.py\u001b[0m in \u001b[0;36m_convert_to_indexer\u001b[0;34m(self, obj, axis, is_setter)\u001b[0m\n\u001b[1;32m   1325\u001b[0m                 \u001b[0;32mif\u001b[0m \u001b[0mmask\u001b[0m\u001b[0;34m.\u001b[0m\u001b[0many\u001b[0m\u001b[0;34m(\u001b[0m\u001b[0;34m)\u001b[0m\u001b[0;34m:\u001b[0m\u001b[0;34m\u001b[0m\u001b[0m\n\u001b[1;32m   1326\u001b[0m                     raise KeyError('{mask} not in index'\n\u001b[0;32m-> 1327\u001b[0;31m                                    .format(mask=objarr[mask]))\n\u001b[0m\u001b[1;32m   1328\u001b[0m \u001b[0;34m\u001b[0m\u001b[0m\n\u001b[1;32m   1329\u001b[0m                 \u001b[0;32mreturn\u001b[0m \u001b[0mcom\u001b[0m\u001b[0;34m.\u001b[0m\u001b[0m_values_from_object\u001b[0m\u001b[0;34m(\u001b[0m\u001b[0mindexer\u001b[0m\u001b[0;34m)\u001b[0m\u001b[0;34m\u001b[0m\u001b[0m\n",
      "\u001b[0;31mKeyError\u001b[0m: \"['Hb saturation (venous blood gas analysis)'] not in index\""
     ]
    }
   ],
   "source": [
    "df_negative = df_negative[['Hemoglobin','Leukocytes', \n",
    "               'Lymphocytes', 'Neutrophils', 'Basophils', 'Monocytes',\n",
    "               'Urea', 'Potassium', 'Sodium', 'Hb saturation (venous blood gas analysis)']]"
   ]
  },
  {
   "cell_type": "code",
   "execution_count": 90,
   "metadata": {},
   "outputs": [
    {
     "data": {
      "image/png": "[encoded data removed]",
      "text/plain": [
       "<Figure size 432x288 with 1 Axes>"
      ]
     },
     "metadata": {},
     "output_type": "display_data"
    }
   ],
   "source": [
    "#Monocytes\n",
    "positives = std_df_positive['Monocytes']\n",
    "negatives = std_df_negative['Monocytes']\n",
    "\n",
    "plt.hist([positives, negatives], label=['positives', 'negatives'],stacked=True)\n",
    "plt.legend(loc='upper right')\n",
    "plt.show()"
   ]
  },
  {
   "cell_type": "code",
   "execution_count": 91,
   "metadata": {},
   "outputs": [
    {
     "data": {
      "image/png": "[encoded data removed]",
      "text/plain": [
       "<Figure size 432x288 with 1 Axes>"
      ]
     },
     "metadata": {},
     "output_type": "display_data"
    }
   ],
   "source": [
    "#Urea\n",
    "positives = std_df_positive['Urea']\n",
    "negatives = std_df_negative['Urea']\n",
    "\n",
    "plt.hist([positives, negatives], label=['positives', 'negatives'],stacked=True)\n",
    "plt.legend(loc='upper right')\n",
    "plt.show()"
   ]
  },
  {
   "cell_type": "code",
   "execution_count": 92,
   "metadata": {},
   "outputs": [
    {
     "data": {
      "image/png": "[encoded data removed]",
      "text/plain": [
       "<Figure size 432x288 with 1 Axes>"
      ]
     },
     "metadata": {},
     "output_type": "display_data"
    }
   ],
   "source": [
    "#Potassium\n",
    "positives = std_df_positive['Potassium']\n",
    "negatives = std_df_negative['Potassium']\n",
    "\n",
    "plt.hist([positives, negatives], label=['positives', 'negatives'],stacked=True)\n",
    "plt.legend(loc='upper right')\n",
    "plt.show()"
   ]
  },
  {
   "cell_type": "code",
   "execution_count": 93,
   "metadata": {},
   "outputs": [
    {
     "data": {
      "image/png": "[encoded data removed]",
      "text/plain": [
       "<Figure size 432x288 with 1 Axes>"
      ]
     },
     "metadata": {},
     "output_type": "display_data"
    }
   ],
   "source": [
    "#Sodium\n",
    "positives = std_df_positive['Sodium']\n",
    "negatives = std_df_negative['Sodium']\n",
    "\n",
    "plt.hist([positives, negatives], label=['positives', 'negatives'],stacked=True)\n",
    "plt.legend(loc='upper right')\n",
    "plt.show()"
   ]
  },
  {
   "cell_type": "code",
   "execution_count": 94,
   "metadata": {},
   "outputs": [],
   "source": [
    "#Magnesium\n",
    "#positives = std_df_positive['Magnesium']\n",
    "#negatives = std_df_negative['Magnesium']\n",
    "#plt.hist([positives, negatives], label=['positives', 'negatives'],stacked=True)\n",
    "#plt.legend(loc='upper right')\n",
    "#plt.show()"
   ]
  },
  {
   "cell_type": "code",
   "execution_count": 95,
   "metadata": {},
   "outputs": [],
   "source": [
    "#Hb saturation (venous blood gas analysis\n",
    "#positives = std_df_positive['Hb saturation (venous blood gas analysis)']\n",
    "#negatives = std_df_negative['Hb saturation (venous blood gas analysis)']\n",
    "\n",
    "#plt.hist([positives, negatives], label=['positives', 'negatives'],stacked=True)\n",
    "#plt.legend(loc='upper right')\n",
    "#plt.show()"
   ]
  },
  {
   "cell_type": "code",
   "execution_count": 96,
   "metadata": {},
   "outputs": [],
   "source": [
    "#pH (venous blood gas analysis)\n",
    "#positives = std_df_positive['pH (venous blood gas analysis)']\n",
    "#negatives = std_df_negative['pH (venous blood gas analysis)']\n",
    "\n",
    "#plt.hist([positives, negatives], label=['positives', 'negatives'],stacked=True)\n",
    "#plt.legend(loc='upper right')\n",
    "#plt.show()"
   ]
  },
  {
   "cell_type": "code",
   "execution_count": 75,
   "metadata": {},
   "outputs": [],
   "source": [
    "#pO2 (venous blood gas analysis)\n",
    "#positives = std_df_positive['pO2 (venous blood gas analysis)']\n",
    "#negatives = std_df_negative['pO2 (venous blood gas analysis)']\n",
    "\n",
    "#plt.hist([positives, negatives], label=['positives', 'negatives'], stacked=True)\n",
    "#plt.legend(loc='upper right')\n",
    "#plt.show()"
   ]
  },
  {
   "cell_type": "code",
   "execution_count": 76,
   "metadata": {},
   "outputs": [],
   "source": [
    "#pCO2 (venous blood gas analysis)\n",
    "#positives = std_df_positive['pCO2 (venous blood gas analysis)']\n",
    "#negatives = std_df_negative['pCO2 (venous blood gas analysis)']\n",
    "\n",
    "#plt.hist([positives, negatives], label=['positives', 'negatives'], stacked=True)\n",
    "#plt.legend(loc='upper right')\n",
    "#plt.show()"
   ]
  },
  {
   "cell_type": "code",
   "execution_count": null,
   "metadata": {},
   "outputs": [],
   "source": []
  },
  {
   "cell_type": "code",
   "execution_count": null,
   "metadata": {},
   "outputs": [],
   "source": []
  },
  {
   "cell_type": "code",
   "execution_count": null,
   "metadata": {},
   "outputs": [],
   "source": []
  },
  {
   "cell_type": "code",
   "execution_count": null,
   "metadata": {},
   "outputs": [],
   "source": []
  },
  {
   "cell_type": "code",
   "execution_count": null,
   "metadata": {},
   "outputs": [],
   "source": []
  }
 ],
 "metadata": {
  "kernelspec": {
   "display_name": "Python 3",
   "language": "python",
   "name": "python3"
  },
  "language_info": {
   "codemirror_mode": {
    "name": "ipython",
    "version": 3
   },
   "file_extension": ".py",
   "mimetype": "text/x-python",
   "name": "python",
   "nbconvert_exporter": "python",
   "pygments_lexer": "ipython3",
   "version": "3.6.5"
  }
 },
 "nbformat": 4,
 "nbformat_minor": 2
}
