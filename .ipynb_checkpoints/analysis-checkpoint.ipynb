{
 "cells": [
  {
   "cell_type": "code",
   "execution_count": 253,
   "metadata": {},
   "outputs": [],
   "source": [
    "import pandas as pd\n",
    "import numpy as np\n",
    "import matplotlib.pyplot as plt\n",
    "import networkx as nx\n",
    "from sklearn.preprocessing import StandardScaler\n",
    "from scipy.spatial.distance import pdist\n",
    "from scipy.spatial.distance import squareform\n",
    "\n",
    "%matplotlib inline\n",
    "pd.options.display.max_rows = 50\n",
    "pd.options.display.max_columns = 50"
   ]
  },
  {
   "cell_type": "code",
   "execution_count": 254,
   "metadata": {},
   "outputs": [
    {
     "data": {
      "text/plain": [
       "(5644, 6)"
      ]
     },
     "execution_count": 254,
     "metadata": {},
     "output_type": "execute_result"
    }
   ],
   "source": [
    "# read the data file\n",
    "\n",
    "df = pd.ExcelFile('dataset.xlsx').parse('All'); \n",
    "dfcpy = df.copy()\n",
    "dfcpy = dfcpy[['SARS-Cov-2 exam result','Hemoglobin','Leukocytes', \n",
    "               'Lymphocytes', 'Neutrophils', 'Basophils']]\n",
    "dfcpy.shape"
   ]
  },
  {
   "cell_type": "code",
   "execution_count": 255,
   "metadata": {},
   "outputs": [
    {
     "data": {
      "text/html": [
       "<div>\n",
       "<style scoped>\n",
       "    .dataframe tbody tr th:only-of-type {\n",
       "        vertical-align: middle;\n",
       "    }\n",
       "\n",
       "    .dataframe tbody tr th {\n",
       "        vertical-align: top;\n",
       "    }\n",
       "\n",
       "    .dataframe thead th {\n",
       "        text-align: right;\n",
       "    }\n",
       "</style>\n",
       "<table border=\"1\" class=\"dataframe\">\n",
       "  <thead>\n",
       "    <tr style=\"text-align: right;\">\n",
       "      <th></th>\n",
       "      <th>Hemoglobin</th>\n",
       "      <th>Leukocytes</th>\n",
       "      <th>Lymphocytes</th>\n",
       "      <th>Neutrophils</th>\n",
       "      <th>Basophils</th>\n",
       "    </tr>\n",
       "  </thead>\n",
       "  <tbody>\n",
       "    <tr>\n",
       "      <th>count</th>\n",
       "      <td>6.030000e+02</td>\n",
       "      <td>6.020000e+02</td>\n",
       "      <td>6.020000e+02</td>\n",
       "      <td>5.130000e+02</td>\n",
       "      <td>6.020000e+02</td>\n",
       "    </tr>\n",
       "    <tr>\n",
       "      <th>mean</th>\n",
       "      <td>-1.601319e-08</td>\n",
       "      <td>6.215833e-09</td>\n",
       "      <td>-7.866736e-09</td>\n",
       "      <td>5.908361e-09</td>\n",
       "      <td>-6.633740e-09</td>\n",
       "    </tr>\n",
       "    <tr>\n",
       "      <th>std</th>\n",
       "      <td>1.000830e+00</td>\n",
       "      <td>1.000832e+00</td>\n",
       "      <td>1.000832e+00</td>\n",
       "      <td>1.000976e+00</td>\n",
       "      <td>1.000832e+00</td>\n",
       "    </tr>\n",
       "    <tr>\n",
       "      <th>min</th>\n",
       "      <td>-4.345603e+00</td>\n",
       "      <td>-2.020303e+00</td>\n",
       "      <td>-1.865070e+00</td>\n",
       "      <td>-3.339775e+00</td>\n",
       "      <td>-1.140144e+00</td>\n",
       "    </tr>\n",
       "    <tr>\n",
       "      <th>25%</th>\n",
       "      <td>-5.862439e-01</td>\n",
       "      <td>-6.372547e-01</td>\n",
       "      <td>-7.307069e-01</td>\n",
       "      <td>-6.518655e-01</td>\n",
       "      <td>-5.292256e-01</td>\n",
       "    </tr>\n",
       "    <tr>\n",
       "      <th>50%</th>\n",
       "      <td>4.031596e-02</td>\n",
       "      <td>-2.128790e-01</td>\n",
       "      <td>-1.426696e-02</td>\n",
       "      <td>-5.364196e-02</td>\n",
       "      <td>-2.237665e-01</td>\n",
       "    </tr>\n",
       "    <tr>\n",
       "      <th>75%</th>\n",
       "      <td>7.295320e-01</td>\n",
       "      <td>4.542955e-01</td>\n",
       "      <td>5.976919e-01</td>\n",
       "      <td>6.838943e-01</td>\n",
       "      <td>3.871516e-01</td>\n",
       "    </tr>\n",
       "    <tr>\n",
       "      <th>max</th>\n",
       "      <td>2.671868e+00</td>\n",
       "      <td>4.522042e+00</td>\n",
       "      <td>3.764100e+00</td>\n",
       "      <td>2.535929e+00</td>\n",
       "      <td>1.107822e+01</td>\n",
       "    </tr>\n",
       "  </tbody>\n",
       "</table>\n",
       "</div>"
      ],
      "text/plain": [
       "         Hemoglobin    Leukocytes   Lymphocytes   Neutrophils     Basophils\n",
       "count  6.030000e+02  6.020000e+02  6.020000e+02  5.130000e+02  6.020000e+02\n",
       "mean  -1.601319e-08  6.215833e-09 -7.866736e-09  5.908361e-09 -6.633740e-09\n",
       "std    1.000830e+00  1.000832e+00  1.000832e+00  1.000976e+00  1.000832e+00\n",
       "min   -4.345603e+00 -2.020303e+00 -1.865070e+00 -3.339775e+00 -1.140144e+00\n",
       "25%   -5.862439e-01 -6.372547e-01 -7.307069e-01 -6.518655e-01 -5.292256e-01\n",
       "50%    4.031596e-02 -2.128790e-01 -1.426696e-02 -5.364196e-02 -2.237665e-01\n",
       "75%    7.295320e-01  4.542955e-01  5.976919e-01  6.838943e-01  3.871516e-01\n",
       "max    2.671868e+00  4.522042e+00  3.764100e+00  2.535929e+00  1.107822e+01"
      ]
     },
     "execution_count": 255,
     "metadata": {},
     "output_type": "execute_result"
    }
   ],
   "source": [
    "dfcpy.describe()"
   ]
  },
  {
   "cell_type": "code",
   "execution_count": 256,
   "metadata": {},
   "outputs": [
    {
     "data": {
      "text/html": [
       "<div>\n",
       "<style scoped>\n",
       "    .dataframe tbody tr th:only-of-type {\n",
       "        vertical-align: middle;\n",
       "    }\n",
       "\n",
       "    .dataframe tbody tr th {\n",
       "        vertical-align: top;\n",
       "    }\n",
       "\n",
       "    .dataframe thead th {\n",
       "        text-align: right;\n",
       "    }\n",
       "</style>\n",
       "<table border=\"1\" class=\"dataframe\">\n",
       "  <thead>\n",
       "    <tr style=\"text-align: right;\">\n",
       "      <th></th>\n",
       "      <th>Hemoglobin</th>\n",
       "      <th>Leukocytes</th>\n",
       "      <th>Lymphocytes</th>\n",
       "      <th>Neutrophils</th>\n",
       "      <th>Basophils</th>\n",
       "    </tr>\n",
       "  </thead>\n",
       "  <tbody>\n",
       "    <tr>\n",
       "      <th>568</th>\n",
       "      <td>0.792188</td>\n",
       "      <td>-0.420197</td>\n",
       "      <td>-0.048383</td>\n",
       "      <td>-0.414215</td>\n",
       "      <td>1.303529</td>\n",
       "    </tr>\n",
       "    <tr>\n",
       "      <th>884</th>\n",
       "      <td>-0.398276</td>\n",
       "      <td>-0.820919</td>\n",
       "      <td>-0.935404</td>\n",
       "      <td>1.282118</td>\n",
       "      <td>-1.140144</td>\n",
       "    </tr>\n",
       "    <tr>\n",
       "      <th>1108</th>\n",
       "      <td>-0.648900</td>\n",
       "      <td>-0.968407</td>\n",
       "      <td>-0.099557</td>\n",
       "      <td>-0.315877</td>\n",
       "      <td>-0.529226</td>\n",
       "    </tr>\n",
       "    <tr>\n",
       "      <th>1162</th>\n",
       "      <td>-0.272964</td>\n",
       "      <td>-0.573250</td>\n",
       "      <td>-0.457777</td>\n",
       "      <td>-0.127395</td>\n",
       "      <td>-0.223767</td>\n",
       "    </tr>\n",
       "    <tr>\n",
       "      <th>1293</th>\n",
       "      <td>0.729532</td>\n",
       "      <td>-0.606644</td>\n",
       "      <td>-0.636887</td>\n",
       "      <td>0.446244</td>\n",
       "      <td>-0.223767</td>\n",
       "    </tr>\n",
       "  </tbody>\n",
       "</table>\n",
       "</div>"
      ],
      "text/plain": [
       "      Hemoglobin  Leukocytes  Lymphocytes  Neutrophils  Basophils\n",
       "568     0.792188   -0.420197    -0.048383    -0.414215   1.303529\n",
       "884    -0.398276   -0.820919    -0.935404     1.282118  -1.140144\n",
       "1108   -0.648900   -0.968407    -0.099557    -0.315877  -0.529226\n",
       "1162   -0.272964   -0.573250    -0.457777    -0.127395  -0.223767\n",
       "1293    0.729532   -0.606644    -0.636887     0.446244  -0.223767"
      ]
     },
     "execution_count": 256,
     "metadata": {},
     "output_type": "execute_result"
    }
   ],
   "source": [
    "df_positive = dfcpy[dfcpy['SARS-Cov-2 exam result'] == 'positive']\n",
    "df_positive = df_positive[['Hemoglobin','Leukocytes', \n",
    "               'Lymphocytes', 'Neutrophils', 'Basophils']]\n",
    "df_positive = df_positive.dropna()\n",
    "df_positive.head()"
   ]
  },
  {
   "cell_type": "code",
   "execution_count": 257,
   "metadata": {},
   "outputs": [
    {
     "data": {
      "text/plain": [
       "array([[<matplotlib.axes._subplots.AxesSubplot object at 0x7f102c00d320>,\n",
       "        <matplotlib.axes._subplots.AxesSubplot object at 0x7f102ea6c208>],\n",
       "       [<matplotlib.axes._subplots.AxesSubplot object at 0x7f102b9c0978>,\n",
       "        <matplotlib.axes._subplots.AxesSubplot object at 0x7f102bd3ad68>],\n",
       "       [<matplotlib.axes._subplots.AxesSubplot object at 0x7f102bd336a0>,\n",
       "        <matplotlib.axes._subplots.AxesSubplot object at 0x7f102bd33b70>]],\n",
       "      dtype=object)"
      ]
     },
     "execution_count": 257,
     "metadata": {},
     "output_type": "execute_result"
    },
    {
     "data": {
      "image/png": "[encoded data removed]",
      "text/plain": [
       "<Figure size 432x288 with 6 Axes>"
      ]
     },
     "metadata": {},
     "output_type": "display_data"
    }
   ],
   "source": [
    "#df_positive histograms\n",
    "df_positive.hist()"
   ]
  },
  {
   "cell_type": "code",
   "execution_count": 258,
   "metadata": {},
   "outputs": [
    {
     "data": {
      "text/html": [
       "<div>\n",
       "<style scoped>\n",
       "    .dataframe tbody tr th:only-of-type {\n",
       "        vertical-align: middle;\n",
       "    }\n",
       "\n",
       "    .dataframe tbody tr th {\n",
       "        vertical-align: top;\n",
       "    }\n",
       "\n",
       "    .dataframe thead th {\n",
       "        text-align: right;\n",
       "    }\n",
       "</style>\n",
       "<table border=\"1\" class=\"dataframe\">\n",
       "  <thead>\n",
       "    <tr style=\"text-align: right;\">\n",
       "      <th></th>\n",
       "      <th>Hemoglobin</th>\n",
       "      <th>Leukocytes</th>\n",
       "      <th>Lymphocytes</th>\n",
       "      <th>Neutrophils</th>\n",
       "      <th>Basophils</th>\n",
       "    </tr>\n",
       "  </thead>\n",
       "  <tbody>\n",
       "    <tr>\n",
       "      <th>1</th>\n",
       "      <td>-0.022340</td>\n",
       "      <td>-0.094610</td>\n",
       "      <td>0.318366</td>\n",
       "      <td>-0.619086</td>\n",
       "      <td>-0.223767</td>\n",
       "    </tr>\n",
       "    <tr>\n",
       "      <th>8</th>\n",
       "      <td>-0.774212</td>\n",
       "      <td>0.364550</td>\n",
       "      <td>-0.005738</td>\n",
       "      <td>-0.127395</td>\n",
       "      <td>-0.223767</td>\n",
       "    </tr>\n",
       "    <tr>\n",
       "      <th>15</th>\n",
       "      <td>-0.586244</td>\n",
       "      <td>-0.884923</td>\n",
       "      <td>-1.114514</td>\n",
       "      <td>0.880570</td>\n",
       "      <td>0.081693</td>\n",
       "    </tr>\n",
       "    <tr>\n",
       "      <th>18</th>\n",
       "      <td>0.792188</td>\n",
       "      <td>-0.211488</td>\n",
       "      <td>0.045436</td>\n",
       "      <td>0.265957</td>\n",
       "      <td>-0.834685</td>\n",
       "    </tr>\n",
       "    <tr>\n",
       "      <th>22</th>\n",
       "      <td>-0.147652</td>\n",
       "      <td>-1.132592</td>\n",
       "      <td>0.002791</td>\n",
       "      <td>-0.422410</td>\n",
       "      <td>0.387152</td>\n",
       "    </tr>\n",
       "  </tbody>\n",
       "</table>\n",
       "</div>"
      ],
      "text/plain": [
       "    Hemoglobin  Leukocytes  Lymphocytes  Neutrophils  Basophils\n",
       "1    -0.022340   -0.094610     0.318366    -0.619086  -0.223767\n",
       "8    -0.774212    0.364550    -0.005738    -0.127395  -0.223767\n",
       "15   -0.586244   -0.884923    -1.114514     0.880570   0.081693\n",
       "18    0.792188   -0.211488     0.045436     0.265957  -0.834685\n",
       "22   -0.147652   -1.132592     0.002791    -0.422410   0.387152"
      ]
     },
     "execution_count": 258,
     "metadata": {},
     "output_type": "execute_result"
    }
   ],
   "source": [
    "df_negative = dfcpy[dfcpy['SARS-Cov-2 exam result'] == 'negative']\n",
    "df_negative = df_negative[['Hemoglobin','Leukocytes', \n",
    "               'Lymphocytes', 'Neutrophils', 'Basophils']]\n",
    "df_negative = df_negative.dropna()\n",
    "df_negative.head()"
   ]
  },
  {
   "cell_type": "code",
   "execution_count": 263,
   "metadata": {},
   "outputs": [
    {
     "data": {
      "text/plain": [
       "array([[<matplotlib.axes._subplots.AxesSubplot object at 0x7f102bd36b00>,\n",
       "        <matplotlib.axes._subplots.AxesSubplot object at 0x7f102c971f98>],\n",
       "       [<matplotlib.axes._subplots.AxesSubplot object at 0x7f1034457668>,\n",
       "        <matplotlib.axes._subplots.AxesSubplot object at 0x7f102e404cf8>],\n",
       "       [<matplotlib.axes._subplots.AxesSubplot object at 0x7f102ee6b3c8>,\n",
       "        <matplotlib.axes._subplots.AxesSubplot object at 0x7f102ee6b400>]],\n",
       "      dtype=object)"
      ]
     },
     "execution_count": 263,
     "metadata": {},
     "output_type": "execute_result"
    },
    {
     "data": {
      "image/png": "[encoded data removed]",
      "text/plain": [
       "<Figure size 432x288 with 6 Axes>"
      ]
     },
     "metadata": {},
     "output_type": "display_data"
    }
   ],
   "source": [
    "#df_negative histograms\n",
    "df_negative.hist()"
   ]
  },
  {
   "cell_type": "code",
   "execution_count": 260,
   "metadata": {},
   "outputs": [
    {
     "data": {
      "text/html": [
       "<div>\n",
       "<style scoped>\n",
       "    .dataframe tbody tr th:only-of-type {\n",
       "        vertical-align: middle;\n",
       "    }\n",
       "\n",
       "    .dataframe tbody tr th {\n",
       "        vertical-align: top;\n",
       "    }\n",
       "\n",
       "    .dataframe thead th {\n",
       "        text-align: right;\n",
       "    }\n",
       "</style>\n",
       "<table border=\"1\" class=\"dataframe\">\n",
       "  <thead>\n",
       "    <tr style=\"text-align: right;\">\n",
       "      <th></th>\n",
       "      <th>Hemoglobin</th>\n",
       "      <th>Leukocytes</th>\n",
       "      <th>Lymphocytes</th>\n",
       "      <th>Neutrophils</th>\n",
       "      <th>Basophils</th>\n",
       "    </tr>\n",
       "  </thead>\n",
       "  <tbody>\n",
       "    <tr>\n",
       "      <th>1</th>\n",
       "      <td>-0.077988</td>\n",
       "      <td>-0.082956</td>\n",
       "      <td>0.320705</td>\n",
       "      <td>-0.626323</td>\n",
       "      <td>-0.505162</td>\n",
       "    </tr>\n",
       "    <tr>\n",
       "      <th>8</th>\n",
       "      <td>-0.851391</td>\n",
       "      <td>0.534219</td>\n",
       "      <td>-0.027239</td>\n",
       "      <td>-0.141199</td>\n",
       "      <td>-0.505162</td>\n",
       "    </tr>\n",
       "    <tr>\n",
       "      <th>15</th>\n",
       "      <td>-0.658040</td>\n",
       "      <td>-1.145245</td>\n",
       "      <td>-1.217577</td>\n",
       "      <td>0.853304</td>\n",
       "      <td>-0.140045</td>\n",
       "    </tr>\n",
       "    <tr>\n",
       "      <th>18</th>\n",
       "      <td>0.759866</td>\n",
       "      <td>-0.240055</td>\n",
       "      <td>0.027699</td>\n",
       "      <td>0.246900</td>\n",
       "      <td>-1.235397</td>\n",
       "    </tr>\n",
       "    <tr>\n",
       "      <th>22</th>\n",
       "      <td>-0.206888</td>\n",
       "      <td>-1.478146</td>\n",
       "      <td>-0.018083</td>\n",
       "      <td>-0.432273</td>\n",
       "      <td>0.225072</td>\n",
       "    </tr>\n",
       "  </tbody>\n",
       "</table>\n",
       "</div>"
      ],
      "text/plain": [
       "    Hemoglobin  Leukocytes  Lymphocytes  Neutrophils  Basophils\n",
       "1    -0.077988   -0.082956     0.320705    -0.626323  -0.505162\n",
       "8    -0.851391    0.534219    -0.027239    -0.141199  -0.505162\n",
       "15   -0.658040   -1.145245    -1.217577     0.853304  -0.140045\n",
       "18    0.759866   -0.240055     0.027699     0.246900  -1.235397\n",
       "22   -0.206888   -1.478146    -0.018083    -0.432273   0.225072"
      ]
     },
     "execution_count": 260,
     "metadata": {},
     "output_type": "execute_result"
    }
   ],
   "source": [
    "#standardization\n",
    "scaler = StandardScaler()\n",
    "std_data = scaler.fit_transform(df_negative.values)\n",
    "std_df_negative = pd.DataFrame(std_data, index=df_negative.index, columns=df_negative.columns)\n",
    "std_df_negative.head()"
   ]
  },
  {
   "cell_type": "code",
   "execution_count": null,
   "metadata": {},
   "outputs": [],
   "source": []
  },
  {
   "cell_type": "code",
   "execution_count": 264,
   "metadata": {},
   "outputs": [
    {
     "data": {
      "text/html": [
       "<div>\n",
       "<style scoped>\n",
       "    .dataframe tbody tr th:only-of-type {\n",
       "        vertical-align: middle;\n",
       "    }\n",
       "\n",
       "    .dataframe tbody tr th {\n",
       "        vertical-align: top;\n",
       "    }\n",
       "\n",
       "    .dataframe thead th {\n",
       "        text-align: right;\n",
       "    }\n",
       "</style>\n",
       "<table border=\"1\" class=\"dataframe\">\n",
       "  <thead>\n",
       "    <tr style=\"text-align: right;\">\n",
       "      <th></th>\n",
       "      <th>Hemoglobin</th>\n",
       "      <th>Leukocytes</th>\n",
       "      <th>Lymphocytes</th>\n",
       "      <th>Neutrophils</th>\n",
       "      <th>Basophils</th>\n",
       "    </tr>\n",
       "  </thead>\n",
       "  <tbody>\n",
       "    <tr>\n",
       "      <th>568</th>\n",
       "      <td>0.620553</td>\n",
       "      <td>0.832967</td>\n",
       "      <td>-0.106194</td>\n",
       "      <td>-0.353720</td>\n",
       "      <td>1.955915</td>\n",
       "    </tr>\n",
       "    <tr>\n",
       "      <th>884</th>\n",
       "      <td>-0.822004</td>\n",
       "      <td>-0.061983</td>\n",
       "      <td>-1.160028</td>\n",
       "      <td>1.507177</td>\n",
       "      <td>-1.568257</td>\n",
       "    </tr>\n",
       "    <tr>\n",
       "      <th>1108</th>\n",
       "      <td>-1.125701</td>\n",
       "      <td>-0.391375</td>\n",
       "      <td>-0.166992</td>\n",
       "      <td>-0.245842</td>\n",
       "      <td>-0.687214</td>\n",
       "    </tr>\n",
       "    <tr>\n",
       "      <th>1162</th>\n",
       "      <td>-0.670156</td>\n",
       "      <td>0.491146</td>\n",
       "      <td>-0.592579</td>\n",
       "      <td>-0.039076</td>\n",
       "      <td>-0.246692</td>\n",
       "    </tr>\n",
       "    <tr>\n",
       "      <th>1293</th>\n",
       "      <td>0.544629</td>\n",
       "      <td>0.416567</td>\n",
       "      <td>-0.805372</td>\n",
       "      <td>0.590213</td>\n",
       "      <td>-0.246692</td>\n",
       "    </tr>\n",
       "  </tbody>\n",
       "</table>\n",
       "</div>"
      ],
      "text/plain": [
       "      Hemoglobin  Leukocytes  Lymphocytes  Neutrophils  Basophils\n",
       "568     0.620553    0.832967    -0.106194    -0.353720   1.955915\n",
       "884    -0.822004   -0.061983    -1.160028     1.507177  -1.568257\n",
       "1108   -1.125701   -0.391375    -0.166992    -0.245842  -0.687214\n",
       "1162   -0.670156    0.491146    -0.592579    -0.039076  -0.246692\n",
       "1293    0.544629    0.416567    -0.805372     0.590213  -0.246692"
      ]
     },
     "execution_count": 264,
     "metadata": {},
     "output_type": "execute_result"
    }
   ],
   "source": [
    "#standardization\n",
    "scaler = StandardScaler()\n",
    "std_data_pos= scaler.fit_transform(df_positive.values)\n",
    "std_df_positive = pd.DataFrame(std_data_pos, index=df_positive.index, columns=df_positive.columns)\n",
    "std_df_positive.head()"
   ]
  },
  {
   "cell_type": "code",
   "execution_count": null,
   "metadata": {},
   "outputs": [],
   "source": []
  },
  {
   "cell_type": "code",
   "execution_count": null,
   "metadata": {},
   "outputs": [],
   "source": []
  },
  {
   "cell_type": "code",
   "execution_count": null,
   "metadata": {},
   "outputs": [],
   "source": []
  },
  {
   "cell_type": "code",
   "execution_count": null,
   "metadata": {},
   "outputs": [],
   "source": []
  }
 ],
 "metadata": {
  "kernelspec": {
   "display_name": "Python 3",
   "language": "python",
   "name": "python3"
  },
  "language_info": {
   "codemirror_mode": {
    "name": "ipython",
    "version": 3
   },
   "file_extension": ".py",
   "mimetype": "text/x-python",
   "name": "python",
   "nbconvert_exporter": "python",
   "pygments_lexer": "ipython3",
   "version": "3.6.5"
  }
 },
 "nbformat": 4,
 "nbformat_minor": 2
}
